{
  "cells": [
    {
      "cell_type": "code",
      "source": [
        "# Mount Drive\n",
        "from google.colab import drive\n",
        "drive.mount(\"/content/drive\")"
      ],
      "metadata": {
        "colab": {
          "base_uri": "https://localhost:8080/"
        },
        "id": "4sExxhUToLXv",
        "outputId": "67e04a2d-5e89-4d06-befd-1889c515e31e"
      },
      "id": "4sExxhUToLXv",
      "execution_count": null,
      "outputs": [
        {
          "output_type": "stream",
          "name": "stdout",
          "text": [
            "Mounted at /content/drive\n"
          ]
        }
      ]
    },
    {
      "cell_type": "code",
      "source": [
        "!pip install tensorflow"
      ],
      "metadata": {
        "colab": {
          "base_uri": "https://localhost:8080/"
        },
        "id": "kpKjT1ejox_X",
        "outputId": "1feab2d8-b219-4fa2-b480-1700e4b109bf"
      },
      "id": "kpKjT1ejox_X",
      "execution_count": null,
      "outputs": [
        {
          "output_type": "stream",
          "name": "stdout",
          "text": [
            "Requirement already satisfied: tensorflow in /usr/local/lib/python3.10/dist-packages (2.17.0)\n",
            "Requirement already satisfied: absl-py>=1.0.0 in /usr/local/lib/python3.10/dist-packages (from tensorflow) (1.4.0)\n",
            "Requirement already satisfied: astunparse>=1.6.0 in /usr/local/lib/python3.10/dist-packages (from tensorflow) (1.6.3)\n",
            "Requirement already satisfied: flatbuffers>=24.3.25 in /usr/local/lib/python3.10/dist-packages (from tensorflow) (24.3.25)\n",
            "Requirement already satisfied: gast!=0.5.0,!=0.5.1,!=0.5.2,>=0.2.1 in /usr/local/lib/python3.10/dist-packages (from tensorflow) (0.6.0)\n",
            "Requirement already satisfied: google-pasta>=0.1.1 in /usr/local/lib/python3.10/dist-packages (from tensorflow) (0.2.0)\n",
            "Requirement already satisfied: h5py>=3.10.0 in /usr/local/lib/python3.10/dist-packages (from tensorflow) (3.11.0)\n",
            "Requirement already satisfied: libclang>=13.0.0 in /usr/local/lib/python3.10/dist-packages (from tensorflow) (18.1.1)\n",
            "Requirement already satisfied: ml-dtypes<0.5.0,>=0.3.1 in /usr/local/lib/python3.10/dist-packages (from tensorflow) (0.4.0)\n",
            "Requirement already satisfied: opt-einsum>=2.3.2 in /usr/local/lib/python3.10/dist-packages (from tensorflow) (3.3.0)\n",
            "Requirement already satisfied: packaging in /usr/local/lib/python3.10/dist-packages (from tensorflow) (24.1)\n",
            "Requirement already satisfied: protobuf!=4.21.0,!=4.21.1,!=4.21.2,!=4.21.3,!=4.21.4,!=4.21.5,<5.0.0dev,>=3.20.3 in /usr/local/lib/python3.10/dist-packages (from tensorflow) (3.20.3)\n",
            "Requirement already satisfied: requests<3,>=2.21.0 in /usr/local/lib/python3.10/dist-packages (from tensorflow) (2.32.3)\n",
            "Requirement already satisfied: setuptools in /usr/local/lib/python3.10/dist-packages (from tensorflow) (71.0.4)\n",
            "Requirement already satisfied: six>=1.12.0 in /usr/local/lib/python3.10/dist-packages (from tensorflow) (1.16.0)\n",
            "Requirement already satisfied: termcolor>=1.1.0 in /usr/local/lib/python3.10/dist-packages (from tensorflow) (2.4.0)\n",
            "Requirement already satisfied: typing-extensions>=3.6.6 in /usr/local/lib/python3.10/dist-packages (from tensorflow) (4.12.2)\n",
            "Requirement already satisfied: wrapt>=1.11.0 in /usr/local/lib/python3.10/dist-packages (from tensorflow) (1.16.0)\n",
            "Requirement already satisfied: grpcio<2.0,>=1.24.3 in /usr/local/lib/python3.10/dist-packages (from tensorflow) (1.64.1)\n",
            "Requirement already satisfied: tensorboard<2.18,>=2.17 in /usr/local/lib/python3.10/dist-packages (from tensorflow) (2.17.0)\n",
            "Requirement already satisfied: keras>=3.2.0 in /usr/local/lib/python3.10/dist-packages (from tensorflow) (3.4.1)\n",
            "Requirement already satisfied: tensorflow-io-gcs-filesystem>=0.23.1 in /usr/local/lib/python3.10/dist-packages (from tensorflow) (0.37.1)\n",
            "Requirement already satisfied: numpy<2.0.0,>=1.23.5 in /usr/local/lib/python3.10/dist-packages (from tensorflow) (1.26.4)\n",
            "Requirement already satisfied: wheel<1.0,>=0.23.0 in /usr/local/lib/python3.10/dist-packages (from astunparse>=1.6.0->tensorflow) (0.44.0)\n",
            "Requirement already satisfied: rich in /usr/local/lib/python3.10/dist-packages (from keras>=3.2.0->tensorflow) (13.8.1)\n",
            "Requirement already satisfied: namex in /usr/local/lib/python3.10/dist-packages (from keras>=3.2.0->tensorflow) (0.0.8)\n",
            "Requirement already satisfied: optree in /usr/local/lib/python3.10/dist-packages (from keras>=3.2.0->tensorflow) (0.12.1)\n",
            "Requirement already satisfied: charset-normalizer<4,>=2 in /usr/local/lib/python3.10/dist-packages (from requests<3,>=2.21.0->tensorflow) (3.3.2)\n",
            "Requirement already satisfied: idna<4,>=2.5 in /usr/local/lib/python3.10/dist-packages (from requests<3,>=2.21.0->tensorflow) (3.8)\n",
            "Requirement already satisfied: urllib3<3,>=1.21.1 in /usr/local/lib/python3.10/dist-packages (from requests<3,>=2.21.0->tensorflow) (2.0.7)\n",
            "Requirement already satisfied: certifi>=2017.4.17 in /usr/local/lib/python3.10/dist-packages (from requests<3,>=2.21.0->tensorflow) (2024.8.30)\n",
            "Requirement already satisfied: markdown>=2.6.8 in /usr/local/lib/python3.10/dist-packages (from tensorboard<2.18,>=2.17->tensorflow) (3.7)\n",
            "Requirement already satisfied: tensorboard-data-server<0.8.0,>=0.7.0 in /usr/local/lib/python3.10/dist-packages (from tensorboard<2.18,>=2.17->tensorflow) (0.7.2)\n",
            "Requirement already satisfied: werkzeug>=1.0.1 in /usr/local/lib/python3.10/dist-packages (from tensorboard<2.18,>=2.17->tensorflow) (3.0.4)\n",
            "Requirement already satisfied: MarkupSafe>=2.1.1 in /usr/local/lib/python3.10/dist-packages (from werkzeug>=1.0.1->tensorboard<2.18,>=2.17->tensorflow) (2.1.5)\n",
            "Requirement already satisfied: markdown-it-py>=2.2.0 in /usr/local/lib/python3.10/dist-packages (from rich->keras>=3.2.0->tensorflow) (3.0.0)\n",
            "Requirement already satisfied: pygments<3.0.0,>=2.13.0 in /usr/local/lib/python3.10/dist-packages (from rich->keras>=3.2.0->tensorflow) (2.16.1)\n",
            "Requirement already satisfied: mdurl~=0.1 in /usr/local/lib/python3.10/dist-packages (from markdown-it-py>=2.2.0->rich->keras>=3.2.0->tensorflow) (0.1.2)\n"
          ]
        }
      ]
    },
    {
      "cell_type": "code",
      "execution_count": null,
      "id": "c0b7fbda-b684-4265-9fe6-824f399f3400",
      "metadata": {
        "id": "c0b7fbda-b684-4265-9fe6-824f399f3400"
      },
      "outputs": [],
      "source": [
        "# Import necessary libraries\n",
        "import math\n",
        "from time import time\n",
        "import numpy as np\n",
        "import pandas as pd\n",
        "import seaborn as sns\n",
        "import matplotlib.pyplot as plt\n",
        "import scipy.stats as stats\n",
        "from imblearn.over_sampling import SMOTE\n",
        "from sklearn.preprocessing import PowerTransformer\n",
        "from sklearn.preprocessing import StandardScaler\n",
        "from sklearn.model_selection import train_test_split, cross_val_score, cross_validate, GridSearchCV, ParameterGrid, RandomizedSearchCV\n",
        "from sklearn.metrics import accuracy_score, precision_score, recall_score, f1_score, classification_report\n",
        "from sklearn.metrics import confusion_matrix\n",
        "from sklearn.naive_bayes import GaussianNB\n",
        "from sklearn.linear_model import LogisticRegression\n",
        "from sklearn.tree import DecisionTreeClassifier\n",
        "from sklearn.ensemble import RandomForestClassifier\n",
        "from sklearn.neighbors import KNeighborsClassifier\n",
        "from sklearn.tree import plot_tree\n",
        "from tensorflow.keras.models import Sequential\n",
        "from tensorflow.keras.layers import Dense, Input"
      ]
    },
    {
      "cell_type": "markdown",
      "id": "d956a40d-3320-4a59-94f4-7f7ee17ad3b1",
      "metadata": {
        "id": "d956a40d-3320-4a59-94f4-7f7ee17ad3b1"
      },
      "source": [
        "## Exploratory Data Analysis"
      ]
    },
    {
      "cell_type": "markdown",
      "id": "042f1ccf-de64-4cb1-8271-22382a977e8b",
      "metadata": {
        "id": "042f1ccf-de64-4cb1-8271-22382a977e8b"
      },
      "source": [
        "### Overview of the Dataset"
      ]
    },
    {
      "cell_type": "code",
      "execution_count": null,
      "id": "82da3e11-13f3-40de-bcb9-edd3467bade1",
      "metadata": {
        "colab": {
          "base_uri": "https://localhost:8080/",
          "height": 307
        },
        "id": "82da3e11-13f3-40de-bcb9-edd3467bade1",
        "outputId": "c31d23fa-7a7e-47ed-9ae0-73a3c4ebfecb"
      },
      "outputs": [
        {
          "output_type": "execute_result",
          "data": {
            "text/plain": [
              "   Salary  NumberOfVacancies  Flexibility  Remoteness  Region  \\\n",
              "0  154922                1.0            0           1       1   \n",
              "1  118256                1.0            0           0       3   \n",
              "2  118256                1.0            0           0       3   \n",
              "3   91927                1.0            0           0       3   \n",
              "4  109710                4.0            1           2       0   \n",
              "\n",
              "   Vacancy6MonthsOrLess  Department  ClassificationLevel  \\\n",
              "0                     0           4                    3   \n",
              "1                     1           8                    1   \n",
              "2                     0           0                    1   \n",
              "3                     0           3                    1   \n",
              "4                     0           3                    0   \n",
              "\n",
              "   Animal and Horticulture  Engineering  ...  \\\n",
              "0                        0            0  ...   \n",
              "1                        0            0  ...   \n",
              "2                        0            0  ...   \n",
              "3                        0            0  ...   \n",
              "4                        0            0  ...   \n",
              "\n",
              "   Administration and Business Services  Executive and Senior Management  \\\n",
              "0                                     1                                0   \n",
              "1                                     1                                0   \n",
              "2                                     1                                0   \n",
              "3                                     0                                0   \n",
              "4                                     0                                0   \n",
              "\n",
              "   Program and Project Management  Probation and Parole Officer  Science  \\\n",
              "0                               0                             0        0   \n",
              "1                               0                             0        0   \n",
              "2                               0                             0        0   \n",
              "3                               0                             0        0   \n",
              "4                               0                             0        0   \n",
              "\n",
              "   Agriculture  Nursing and Midwifery  VacancyType  NumberOfApplicants  \\\n",
              "0            0                      0            2                   3   \n",
              "1            0                      0            1                  18   \n",
              "2            0                      0            1                   6   \n",
              "3            0                      0            3                  10   \n",
              "4            0                      0            1                  17   \n",
              "\n",
              "   Success  \n",
              "0        0  \n",
              "1        0  \n",
              "2        1  \n",
              "3        1  \n",
              "4        1  \n",
              "\n",
              "[5 rows x 56 columns]"
            ],
            "text/html": [
              "\n",
              "  <div id=\"df-f593bed8-0e0b-4ce7-8125-4803ac8b85af\" class=\"colab-df-container\">\n",
              "    <div>\n",
              "<style scoped>\n",
              "    .dataframe tbody tr th:only-of-type {\n",
              "        vertical-align: middle;\n",
              "    }\n",
              "\n",
              "    .dataframe tbody tr th {\n",
              "        vertical-align: top;\n",
              "    }\n",
              "\n",
              "    .dataframe thead th {\n",
              "        text-align: right;\n",
              "    }\n",
              "</style>\n",
              "<table border=\"1\" class=\"dataframe\">\n",
              "  <thead>\n",
              "    <tr style=\"text-align: right;\">\n",
              "      <th></th>\n",
              "      <th>Salary</th>\n",
              "      <th>NumberOfVacancies</th>\n",
              "      <th>Flexibility</th>\n",
              "      <th>Remoteness</th>\n",
              "      <th>Region</th>\n",
              "      <th>Vacancy6MonthsOrLess</th>\n",
              "      <th>Department</th>\n",
              "      <th>ClassificationLevel</th>\n",
              "      <th>Animal and Horticulture</th>\n",
              "      <th>Engineering</th>\n",
              "      <th>...</th>\n",
              "      <th>Administration and Business Services</th>\n",
              "      <th>Executive and Senior Management</th>\n",
              "      <th>Program and Project Management</th>\n",
              "      <th>Probation and Parole Officer</th>\n",
              "      <th>Science</th>\n",
              "      <th>Agriculture</th>\n",
              "      <th>Nursing and Midwifery</th>\n",
              "      <th>VacancyType</th>\n",
              "      <th>NumberOfApplicants</th>\n",
              "      <th>Success</th>\n",
              "    </tr>\n",
              "  </thead>\n",
              "  <tbody>\n",
              "    <tr>\n",
              "      <th>0</th>\n",
              "      <td>154922</td>\n",
              "      <td>1.0</td>\n",
              "      <td>0</td>\n",
              "      <td>1</td>\n",
              "      <td>1</td>\n",
              "      <td>0</td>\n",
              "      <td>4</td>\n",
              "      <td>3</td>\n",
              "      <td>0</td>\n",
              "      <td>0</td>\n",
              "      <td>...</td>\n",
              "      <td>1</td>\n",
              "      <td>0</td>\n",
              "      <td>0</td>\n",
              "      <td>0</td>\n",
              "      <td>0</td>\n",
              "      <td>0</td>\n",
              "      <td>0</td>\n",
              "      <td>2</td>\n",
              "      <td>3</td>\n",
              "      <td>0</td>\n",
              "    </tr>\n",
              "    <tr>\n",
              "      <th>1</th>\n",
              "      <td>118256</td>\n",
              "      <td>1.0</td>\n",
              "      <td>0</td>\n",
              "      <td>0</td>\n",
              "      <td>3</td>\n",
              "      <td>1</td>\n",
              "      <td>8</td>\n",
              "      <td>1</td>\n",
              "      <td>0</td>\n",
              "      <td>0</td>\n",
              "      <td>...</td>\n",
              "      <td>1</td>\n",
              "      <td>0</td>\n",
              "      <td>0</td>\n",
              "      <td>0</td>\n",
              "      <td>0</td>\n",
              "      <td>0</td>\n",
              "      <td>0</td>\n",
              "      <td>1</td>\n",
              "      <td>18</td>\n",
              "      <td>0</td>\n",
              "    </tr>\n",
              "    <tr>\n",
              "      <th>2</th>\n",
              "      <td>118256</td>\n",
              "      <td>1.0</td>\n",
              "      <td>0</td>\n",
              "      <td>0</td>\n",
              "      <td>3</td>\n",
              "      <td>0</td>\n",
              "      <td>0</td>\n",
              "      <td>1</td>\n",
              "      <td>0</td>\n",
              "      <td>0</td>\n",
              "      <td>...</td>\n",
              "      <td>1</td>\n",
              "      <td>0</td>\n",
              "      <td>0</td>\n",
              "      <td>0</td>\n",
              "      <td>0</td>\n",
              "      <td>0</td>\n",
              "      <td>0</td>\n",
              "      <td>1</td>\n",
              "      <td>6</td>\n",
              "      <td>1</td>\n",
              "    </tr>\n",
              "    <tr>\n",
              "      <th>3</th>\n",
              "      <td>91927</td>\n",
              "      <td>1.0</td>\n",
              "      <td>0</td>\n",
              "      <td>0</td>\n",
              "      <td>3</td>\n",
              "      <td>0</td>\n",
              "      <td>3</td>\n",
              "      <td>1</td>\n",
              "      <td>0</td>\n",
              "      <td>0</td>\n",
              "      <td>...</td>\n",
              "      <td>0</td>\n",
              "      <td>0</td>\n",
              "      <td>0</td>\n",
              "      <td>0</td>\n",
              "      <td>0</td>\n",
              "      <td>0</td>\n",
              "      <td>0</td>\n",
              "      <td>3</td>\n",
              "      <td>10</td>\n",
              "      <td>1</td>\n",
              "    </tr>\n",
              "    <tr>\n",
              "      <th>4</th>\n",
              "      <td>109710</td>\n",
              "      <td>4.0</td>\n",
              "      <td>1</td>\n",
              "      <td>2</td>\n",
              "      <td>0</td>\n",
              "      <td>0</td>\n",
              "      <td>3</td>\n",
              "      <td>0</td>\n",
              "      <td>0</td>\n",
              "      <td>0</td>\n",
              "      <td>...</td>\n",
              "      <td>0</td>\n",
              "      <td>0</td>\n",
              "      <td>0</td>\n",
              "      <td>0</td>\n",
              "      <td>0</td>\n",
              "      <td>0</td>\n",
              "      <td>0</td>\n",
              "      <td>1</td>\n",
              "      <td>17</td>\n",
              "      <td>1</td>\n",
              "    </tr>\n",
              "  </tbody>\n",
              "</table>\n",
              "<p>5 rows × 56 columns</p>\n",
              "</div>\n",
              "    <div class=\"colab-df-buttons\">\n",
              "\n",
              "  <div class=\"colab-df-container\">\n",
              "    <button class=\"colab-df-convert\" onclick=\"convertToInteractive('df-f593bed8-0e0b-4ce7-8125-4803ac8b85af')\"\n",
              "            title=\"Convert this dataframe to an interactive table.\"\n",
              "            style=\"display:none;\">\n",
              "\n",
              "  <svg xmlns=\"http://www.w3.org/2000/svg\" height=\"24px\" viewBox=\"0 -960 960 960\">\n",
              "    <path d=\"M120-120v-720h720v720H120Zm60-500h600v-160H180v160Zm220 220h160v-160H400v160Zm0 220h160v-160H400v160ZM180-400h160v-160H180v160Zm440 0h160v-160H620v160ZM180-180h160v-160H180v160Zm440 0h160v-160H620v160Z\"/>\n",
              "  </svg>\n",
              "    </button>\n",
              "\n",
              "  <style>\n",
              "    .colab-df-container {\n",
              "      display:flex;\n",
              "      gap: 12px;\n",
              "    }\n",
              "\n",
              "    .colab-df-convert {\n",
              "      background-color: #E8F0FE;\n",
              "      border: none;\n",
              "      border-radius: 50%;\n",
              "      cursor: pointer;\n",
              "      display: none;\n",
              "      fill: #1967D2;\n",
              "      height: 32px;\n",
              "      padding: 0 0 0 0;\n",
              "      width: 32px;\n",
              "    }\n",
              "\n",
              "    .colab-df-convert:hover {\n",
              "      background-color: #E2EBFA;\n",
              "      box-shadow: 0px 1px 2px rgba(60, 64, 67, 0.3), 0px 1px 3px 1px rgba(60, 64, 67, 0.15);\n",
              "      fill: #174EA6;\n",
              "    }\n",
              "\n",
              "    .colab-df-buttons div {\n",
              "      margin-bottom: 4px;\n",
              "    }\n",
              "\n",
              "    [theme=dark] .colab-df-convert {\n",
              "      background-color: #3B4455;\n",
              "      fill: #D2E3FC;\n",
              "    }\n",
              "\n",
              "    [theme=dark] .colab-df-convert:hover {\n",
              "      background-color: #434B5C;\n",
              "      box-shadow: 0px 1px 3px 1px rgba(0, 0, 0, 0.15);\n",
              "      filter: drop-shadow(0px 1px 2px rgba(0, 0, 0, 0.3));\n",
              "      fill: #FFFFFF;\n",
              "    }\n",
              "  </style>\n",
              "\n",
              "    <script>\n",
              "      const buttonEl =\n",
              "        document.querySelector('#df-f593bed8-0e0b-4ce7-8125-4803ac8b85af button.colab-df-convert');\n",
              "      buttonEl.style.display =\n",
              "        google.colab.kernel.accessAllowed ? 'block' : 'none';\n",
              "\n",
              "      async function convertToInteractive(key) {\n",
              "        const element = document.querySelector('#df-f593bed8-0e0b-4ce7-8125-4803ac8b85af');\n",
              "        const dataTable =\n",
              "          await google.colab.kernel.invokeFunction('convertToInteractive',\n",
              "                                                    [key], {});\n",
              "        if (!dataTable) return;\n",
              "\n",
              "        const docLinkHtml = 'Like what you see? Visit the ' +\n",
              "          '<a target=\"_blank\" href=https://colab.research.google.com/notebooks/data_table.ipynb>data table notebook</a>'\n",
              "          + ' to learn more about interactive tables.';\n",
              "        element.innerHTML = '';\n",
              "        dataTable['output_type'] = 'display_data';\n",
              "        await google.colab.output.renderOutput(dataTable, element);\n",
              "        const docLink = document.createElement('div');\n",
              "        docLink.innerHTML = docLinkHtml;\n",
              "        element.appendChild(docLink);\n",
              "      }\n",
              "    </script>\n",
              "  </div>\n",
              "\n",
              "\n",
              "<div id=\"df-5387c265-cf39-4dce-b81a-69915e644827\">\n",
              "  <button class=\"colab-df-quickchart\" onclick=\"quickchart('df-5387c265-cf39-4dce-b81a-69915e644827')\"\n",
              "            title=\"Suggest charts\"\n",
              "            style=\"display:none;\">\n",
              "\n",
              "<svg xmlns=\"http://www.w3.org/2000/svg\" height=\"24px\"viewBox=\"0 0 24 24\"\n",
              "     width=\"24px\">\n",
              "    <g>\n",
              "        <path d=\"M19 3H5c-1.1 0-2 .9-2 2v14c0 1.1.9 2 2 2h14c1.1 0 2-.9 2-2V5c0-1.1-.9-2-2-2zM9 17H7v-7h2v7zm4 0h-2V7h2v10zm4 0h-2v-4h2v4z\"/>\n",
              "    </g>\n",
              "</svg>\n",
              "  </button>\n",
              "\n",
              "<style>\n",
              "  .colab-df-quickchart {\n",
              "      --bg-color: #E8F0FE;\n",
              "      --fill-color: #1967D2;\n",
              "      --hover-bg-color: #E2EBFA;\n",
              "      --hover-fill-color: #174EA6;\n",
              "      --disabled-fill-color: #AAA;\n",
              "      --disabled-bg-color: #DDD;\n",
              "  }\n",
              "\n",
              "  [theme=dark] .colab-df-quickchart {\n",
              "      --bg-color: #3B4455;\n",
              "      --fill-color: #D2E3FC;\n",
              "      --hover-bg-color: #434B5C;\n",
              "      --hover-fill-color: #FFFFFF;\n",
              "      --disabled-bg-color: #3B4455;\n",
              "      --disabled-fill-color: #666;\n",
              "  }\n",
              "\n",
              "  .colab-df-quickchart {\n",
              "    background-color: var(--bg-color);\n",
              "    border: none;\n",
              "    border-radius: 50%;\n",
              "    cursor: pointer;\n",
              "    display: none;\n",
              "    fill: var(--fill-color);\n",
              "    height: 32px;\n",
              "    padding: 0;\n",
              "    width: 32px;\n",
              "  }\n",
              "\n",
              "  .colab-df-quickchart:hover {\n",
              "    background-color: var(--hover-bg-color);\n",
              "    box-shadow: 0 1px 2px rgba(60, 64, 67, 0.3), 0 1px 3px 1px rgba(60, 64, 67, 0.15);\n",
              "    fill: var(--button-hover-fill-color);\n",
              "  }\n",
              "\n",
              "  .colab-df-quickchart-complete:disabled,\n",
              "  .colab-df-quickchart-complete:disabled:hover {\n",
              "    background-color: var(--disabled-bg-color);\n",
              "    fill: var(--disabled-fill-color);\n",
              "    box-shadow: none;\n",
              "  }\n",
              "\n",
              "  .colab-df-spinner {\n",
              "    border: 2px solid var(--fill-color);\n",
              "    border-color: transparent;\n",
              "    border-bottom-color: var(--fill-color);\n",
              "    animation:\n",
              "      spin 1s steps(1) infinite;\n",
              "  }\n",
              "\n",
              "  @keyframes spin {\n",
              "    0% {\n",
              "      border-color: transparent;\n",
              "      border-bottom-color: var(--fill-color);\n",
              "      border-left-color: var(--fill-color);\n",
              "    }\n",
              "    20% {\n",
              "      border-color: transparent;\n",
              "      border-left-color: var(--fill-color);\n",
              "      border-top-color: var(--fill-color);\n",
              "    }\n",
              "    30% {\n",
              "      border-color: transparent;\n",
              "      border-left-color: var(--fill-color);\n",
              "      border-top-color: var(--fill-color);\n",
              "      border-right-color: var(--fill-color);\n",
              "    }\n",
              "    40% {\n",
              "      border-color: transparent;\n",
              "      border-right-color: var(--fill-color);\n",
              "      border-top-color: var(--fill-color);\n",
              "    }\n",
              "    60% {\n",
              "      border-color: transparent;\n",
              "      border-right-color: var(--fill-color);\n",
              "    }\n",
              "    80% {\n",
              "      border-color: transparent;\n",
              "      border-right-color: var(--fill-color);\n",
              "      border-bottom-color: var(--fill-color);\n",
              "    }\n",
              "    90% {\n",
              "      border-color: transparent;\n",
              "      border-bottom-color: var(--fill-color);\n",
              "    }\n",
              "  }\n",
              "</style>\n",
              "\n",
              "  <script>\n",
              "    async function quickchart(key) {\n",
              "      const quickchartButtonEl =\n",
              "        document.querySelector('#' + key + ' button');\n",
              "      quickchartButtonEl.disabled = true;  // To prevent multiple clicks.\n",
              "      quickchartButtonEl.classList.add('colab-df-spinner');\n",
              "      try {\n",
              "        const charts = await google.colab.kernel.invokeFunction(\n",
              "            'suggestCharts', [key], {});\n",
              "      } catch (error) {\n",
              "        console.error('Error during call to suggestCharts:', error);\n",
              "      }\n",
              "      quickchartButtonEl.classList.remove('colab-df-spinner');\n",
              "      quickchartButtonEl.classList.add('colab-df-quickchart-complete');\n",
              "    }\n",
              "    (() => {\n",
              "      let quickchartButtonEl =\n",
              "        document.querySelector('#df-5387c265-cf39-4dce-b81a-69915e644827 button');\n",
              "      quickchartButtonEl.style.display =\n",
              "        google.colab.kernel.accessAllowed ? 'block' : 'none';\n",
              "    })();\n",
              "  </script>\n",
              "</div>\n",
              "\n",
              "    </div>\n",
              "  </div>\n"
            ],
            "application/vnd.google.colaboratory.intrinsic+json": {
              "type": "dataframe",
              "variable_name": "df"
            }
          },
          "metadata": {},
          "execution_count": 5
        }
      ],
      "source": [
        "# Read the dataset\n",
        "df = pd.read_csv('/content/drive/MyDrive/IT_Code_Fair_2024/encoded_dataset.csv')\n",
        "df.head()"
      ]
    },
    {
      "cell_type": "code",
      "execution_count": null,
      "id": "de695b6b-942c-49a8-be69-26d01b5a03f0",
      "metadata": {
        "colab": {
          "base_uri": "https://localhost:8080/"
        },
        "id": "de695b6b-942c-49a8-be69-26d01b5a03f0",
        "outputId": "4a11e027-bbc1-480a-9e56-4b8883ead19e"
      },
      "outputs": [
        {
          "output_type": "execute_result",
          "data": {
            "text/plain": [
              "(9219, 56)"
            ]
          },
          "metadata": {},
          "execution_count": 6
        }
      ],
      "source": [
        "# Dataset size\n",
        "df.shape"
      ]
    },
    {
      "cell_type": "code",
      "execution_count": null,
      "id": "426f40f0-e477-41de-a1e0-43cafe5ba3dd",
      "metadata": {
        "colab": {
          "base_uri": "https://localhost:8080/"
        },
        "id": "426f40f0-e477-41de-a1e0-43cafe5ba3dd",
        "outputId": "510a6053-1af0-4ad2-a0c3-906cc2e263c1"
      },
      "outputs": [
        {
          "output_type": "stream",
          "name": "stdout",
          "text": [
            "<class 'pandas.core.frame.DataFrame'>\n",
            "RangeIndex: 9219 entries, 0 to 9218\n",
            "Data columns (total 56 columns):\n",
            " #   Column                                          Non-Null Count  Dtype  \n",
            "---  ------                                          --------------  -----  \n",
            " 0   Salary                                          9219 non-null   int64  \n",
            " 1   NumberOfVacancies                               9219 non-null   float64\n",
            " 2   Flexibility                                     9219 non-null   int64  \n",
            " 3   Remoteness                                      9219 non-null   int64  \n",
            " 4   Region                                          9219 non-null   int64  \n",
            " 5   Vacancy6MonthsOrLess                            9219 non-null   int64  \n",
            " 6   Department                                      9219 non-null   int64  \n",
            " 7   ClassificationLevel                             9219 non-null   int64  \n",
            " 8   Animal and Horticulture                         9219 non-null   int64  \n",
            " 9   Engineering                                     9219 non-null   int64  \n",
            " 10  Cadetship and Graduate Programs                 9219 non-null   int64  \n",
            " 11  Grants and Contract Management                  9219 non-null   int64  \n",
            " 12  Allied Health and Health Care Services          9219 non-null   int64  \n",
            " 13  Hospitality and Food Services                   9219 non-null   int64  \n",
            " 14  Community Services                              9219 non-null   int64  \n",
            " 15  Communication                                   9219 non-null   int64  \n",
            " 16  Transport and Logistics                         9219 non-null   int64  \n",
            " 17  Payroll                                         9219 non-null   int64  \n",
            " 18  Tourism and Culture                             9219 non-null   int64  \n",
            " 19  Information and Communication Technology (ICT)  9219 non-null   int64  \n",
            " 20  Prison Services                                 9219 non-null   int64  \n",
            " 21  Child Protection                                9219 non-null   int64  \n",
            " 22  Architecture and Design                         9219 non-null   int64  \n",
            " 23  Legal                                           9219 non-null   int64  \n",
            " 24  Professional                                    9219 non-null   int64  \n",
            " 25  Information and Records Management              9219 non-null   int64  \n",
            " 26  Human Resources and Work Health Safety          9219 non-null   int64  \n",
            " 27  Environment                                     9219 non-null   int64  \n",
            " 28  Police                                          9219 non-null   int64  \n",
            " 29  Construction                                    9219 non-null   int64  \n",
            " 30  Media and Public Relations                      9219 non-null   int64  \n",
            " 31  Housekeeping Services                           9219 non-null   int64  \n",
            " 32  Aged and Disability Care                        9219 non-null   int64  \n",
            " 33  Fire and Emergency Workers                      9219 non-null   int64  \n",
            " 34  Traineeship                                     9219 non-null   int64  \n",
            " 35  Social Work                                     9219 non-null   int64  \n",
            " 36  Education and Training                          9219 non-null   int64  \n",
            " 37  Maintenance and Services                        9219 non-null   int64  \n",
            " 38  Sport and Recreation                            9219 non-null   int64  \n",
            " 39  Medical                                         9219 non-null   int64  \n",
            " 40  Vacation Employment                             9219 non-null   int64  \n",
            " 41  Primary Industry                                9219 non-null   int64  \n",
            " 42  Procurement                                     9219 non-null   int64  \n",
            " 43  Accounting and Finance                          9219 non-null   int64  \n",
            " 44  Trades                                          9219 non-null   int64  \n",
            " 45  Natural Resources and Conservation              9219 non-null   int64  \n",
            " 46  Administration and Business Services            9219 non-null   int64  \n",
            " 47  Executive and Senior Management                 9219 non-null   int64  \n",
            " 48  Program and Project Management                  9219 non-null   int64  \n",
            " 49  Probation and Parole Officer                    9219 non-null   int64  \n",
            " 50  Science                                         9219 non-null   int64  \n",
            " 51  Agriculture                                     9219 non-null   int64  \n",
            " 52  Nursing and Midwifery                           9219 non-null   int64  \n",
            " 53  VacancyType                                     9219 non-null   int64  \n",
            " 54  NumberOfApplicants                              9219 non-null   int64  \n",
            " 55  Success                                         9219 non-null   int64  \n",
            "dtypes: float64(1), int64(55)\n",
            "memory usage: 3.9 MB\n"
          ]
        }
      ],
      "source": [
        "# Check if there's any missing values or abnormal data and check datatypes of all variables\n",
        "df.info()"
      ]
    },
    {
      "cell_type": "code",
      "execution_count": null,
      "id": "77d1ba1f-48b3-41b2-ac5e-d5b40bde7cb0",
      "metadata": {
        "colab": {
          "base_uri": "https://localhost:8080/"
        },
        "id": "77d1ba1f-48b3-41b2-ac5e-d5b40bde7cb0",
        "outputId": "1ab4bdf7-ef50-411d-971e-d177c8a36426"
      },
      "outputs": [
        {
          "output_type": "execute_result",
          "data": {
            "text/plain": [
              "(9219, 56)"
            ]
          },
          "metadata": {},
          "execution_count": 8
        }
      ],
      "source": [
        "# Check dataset size\n",
        "df.shape"
      ]
    },
    {
      "cell_type": "markdown",
      "id": "97f14faf-ca17-4edc-9abe-2824364fcff9",
      "metadata": {
        "id": "97f14faf-ca17-4edc-9abe-2824364fcff9"
      },
      "source": [
        "Now, the dataset has 9219 rows and 56 columns."
      ]
    },
    {
      "cell_type": "code",
      "execution_count": null,
      "id": "b3683282-76f8-4237-9d02-b72007276e5e",
      "metadata": {
        "colab": {
          "base_uri": "https://localhost:8080/",
          "height": 401
        },
        "id": "b3683282-76f8-4237-9d02-b72007276e5e",
        "outputId": "64e1032a-53a1-4063-a66a-f938b05c1160"
      },
      "outputs": [
        {
          "output_type": "execute_result",
          "data": {
            "text/plain": [
              "              Salary  NumberOfVacancies  Flexibility   Remoteness  \\\n",
              "count    9219.000000        9219.000000  9219.000000  9219.000000   \n",
              "mean   113333.981234           1.264562     0.066819     0.592364   \n",
              "std     38559.189689           3.058973     0.249721     0.829727   \n",
              "min     24000.000000           1.000000     0.000000     0.000000   \n",
              "25%     88290.000000           1.000000     0.000000     0.000000   \n",
              "50%    103447.000000           1.000000     0.000000     0.000000   \n",
              "75%    133553.000000           1.000000     0.000000     1.000000   \n",
              "max    383864.000000         201.000000     1.000000     2.000000   \n",
              "\n",
              "            Region  Vacancy6MonthsOrLess   Department  ClassificationLevel  \\\n",
              "count  9219.000000           9219.000000  9219.000000          9219.000000   \n",
              "mean      2.648443              0.148823     3.804426             0.731750   \n",
              "std       0.896560              0.355933     3.207755             0.918318   \n",
              "min       0.000000              0.000000     0.000000             0.000000   \n",
              "25%       2.000000              0.000000     1.000000             0.000000   \n",
              "50%       3.000000              0.000000     3.000000             0.000000   \n",
              "75%       3.000000              0.000000     6.000000             1.000000   \n",
              "max       5.000000              1.000000    13.000000             3.000000   \n",
              "\n",
              "       Animal and Horticulture  Engineering  ...  \\\n",
              "count                   9219.0  9219.000000  ...   \n",
              "mean                       0.0     0.009329  ...   \n",
              "std                        0.0     0.096138  ...   \n",
              "min                        0.0     0.000000  ...   \n",
              "25%                        0.0     0.000000  ...   \n",
              "50%                        0.0     0.000000  ...   \n",
              "75%                        0.0     0.000000  ...   \n",
              "max                        0.0     1.000000  ...   \n",
              "\n",
              "       Administration and Business Services  Executive and Senior Management  \\\n",
              "count                           9219.000000                      9219.000000   \n",
              "mean                               0.272698                         0.018983   \n",
              "std                                0.445371                         0.136471   \n",
              "min                                0.000000                         0.000000   \n",
              "25%                                0.000000                         0.000000   \n",
              "50%                                0.000000                         0.000000   \n",
              "75%                                1.000000                         0.000000   \n",
              "max                                1.000000                         1.000000   \n",
              "\n",
              "       Program and Project Management  Probation and Parole Officer  \\\n",
              "count                     9219.000000                   9219.000000   \n",
              "mean                         0.016162                      0.004339   \n",
              "std                          0.126106                      0.065731   \n",
              "min                          0.000000                      0.000000   \n",
              "25%                          0.000000                      0.000000   \n",
              "50%                          0.000000                      0.000000   \n",
              "75%                          0.000000                      0.000000   \n",
              "max                          1.000000                      1.000000   \n",
              "\n",
              "           Science  Agriculture  Nursing and Midwifery  VacancyType  \\\n",
              "count  9219.000000  9219.000000            9219.000000  9219.000000   \n",
              "mean      0.001627     0.009546               0.090248     1.933398   \n",
              "std       0.040306     0.097239               0.286553     1.009346   \n",
              "min       0.000000     0.000000               0.000000     0.000000   \n",
              "25%       0.000000     0.000000               0.000000     1.000000   \n",
              "50%       0.000000     0.000000               0.000000     1.000000   \n",
              "75%       0.000000     0.000000               0.000000     3.000000   \n",
              "max       1.000000     1.000000               1.000000     4.000000   \n",
              "\n",
              "       NumberOfApplicants      Success  \n",
              "count         9219.000000  9219.000000  \n",
              "mean            15.616987     0.624363  \n",
              "std             31.786109     0.484313  \n",
              "min              0.000000     0.000000  \n",
              "25%              3.000000     0.000000  \n",
              "50%              9.000000     1.000000  \n",
              "75%             18.000000     1.000000  \n",
              "max           1403.000000     1.000000  \n",
              "\n",
              "[8 rows x 56 columns]"
            ],
            "text/html": [
              "\n",
              "  <div id=\"df-573493b8-3153-4df1-8399-1fd976b5fc31\" class=\"colab-df-container\">\n",
              "    <div>\n",
              "<style scoped>\n",
              "    .dataframe tbody tr th:only-of-type {\n",
              "        vertical-align: middle;\n",
              "    }\n",
              "\n",
              "    .dataframe tbody tr th {\n",
              "        vertical-align: top;\n",
              "    }\n",
              "\n",
              "    .dataframe thead th {\n",
              "        text-align: right;\n",
              "    }\n",
              "</style>\n",
              "<table border=\"1\" class=\"dataframe\">\n",
              "  <thead>\n",
              "    <tr style=\"text-align: right;\">\n",
              "      <th></th>\n",
              "      <th>Salary</th>\n",
              "      <th>NumberOfVacancies</th>\n",
              "      <th>Flexibility</th>\n",
              "      <th>Remoteness</th>\n",
              "      <th>Region</th>\n",
              "      <th>Vacancy6MonthsOrLess</th>\n",
              "      <th>Department</th>\n",
              "      <th>ClassificationLevel</th>\n",
              "      <th>Animal and Horticulture</th>\n",
              "      <th>Engineering</th>\n",
              "      <th>...</th>\n",
              "      <th>Administration and Business Services</th>\n",
              "      <th>Executive and Senior Management</th>\n",
              "      <th>Program and Project Management</th>\n",
              "      <th>Probation and Parole Officer</th>\n",
              "      <th>Science</th>\n",
              "      <th>Agriculture</th>\n",
              "      <th>Nursing and Midwifery</th>\n",
              "      <th>VacancyType</th>\n",
              "      <th>NumberOfApplicants</th>\n",
              "      <th>Success</th>\n",
              "    </tr>\n",
              "  </thead>\n",
              "  <tbody>\n",
              "    <tr>\n",
              "      <th>count</th>\n",
              "      <td>9219.000000</td>\n",
              "      <td>9219.000000</td>\n",
              "      <td>9219.000000</td>\n",
              "      <td>9219.000000</td>\n",
              "      <td>9219.000000</td>\n",
              "      <td>9219.000000</td>\n",
              "      <td>9219.000000</td>\n",
              "      <td>9219.000000</td>\n",
              "      <td>9219.0</td>\n",
              "      <td>9219.000000</td>\n",
              "      <td>...</td>\n",
              "      <td>9219.000000</td>\n",
              "      <td>9219.000000</td>\n",
              "      <td>9219.000000</td>\n",
              "      <td>9219.000000</td>\n",
              "      <td>9219.000000</td>\n",
              "      <td>9219.000000</td>\n",
              "      <td>9219.000000</td>\n",
              "      <td>9219.000000</td>\n",
              "      <td>9219.000000</td>\n",
              "      <td>9219.000000</td>\n",
              "    </tr>\n",
              "    <tr>\n",
              "      <th>mean</th>\n",
              "      <td>113333.981234</td>\n",
              "      <td>1.264562</td>\n",
              "      <td>0.066819</td>\n",
              "      <td>0.592364</td>\n",
              "      <td>2.648443</td>\n",
              "      <td>0.148823</td>\n",
              "      <td>3.804426</td>\n",
              "      <td>0.731750</td>\n",
              "      <td>0.0</td>\n",
              "      <td>0.009329</td>\n",
              "      <td>...</td>\n",
              "      <td>0.272698</td>\n",
              "      <td>0.018983</td>\n",
              "      <td>0.016162</td>\n",
              "      <td>0.004339</td>\n",
              "      <td>0.001627</td>\n",
              "      <td>0.009546</td>\n",
              "      <td>0.090248</td>\n",
              "      <td>1.933398</td>\n",
              "      <td>15.616987</td>\n",
              "      <td>0.624363</td>\n",
              "    </tr>\n",
              "    <tr>\n",
              "      <th>std</th>\n",
              "      <td>38559.189689</td>\n",
              "      <td>3.058973</td>\n",
              "      <td>0.249721</td>\n",
              "      <td>0.829727</td>\n",
              "      <td>0.896560</td>\n",
              "      <td>0.355933</td>\n",
              "      <td>3.207755</td>\n",
              "      <td>0.918318</td>\n",
              "      <td>0.0</td>\n",
              "      <td>0.096138</td>\n",
              "      <td>...</td>\n",
              "      <td>0.445371</td>\n",
              "      <td>0.136471</td>\n",
              "      <td>0.126106</td>\n",
              "      <td>0.065731</td>\n",
              "      <td>0.040306</td>\n",
              "      <td>0.097239</td>\n",
              "      <td>0.286553</td>\n",
              "      <td>1.009346</td>\n",
              "      <td>31.786109</td>\n",
              "      <td>0.484313</td>\n",
              "    </tr>\n",
              "    <tr>\n",
              "      <th>min</th>\n",
              "      <td>24000.000000</td>\n",
              "      <td>1.000000</td>\n",
              "      <td>0.000000</td>\n",
              "      <td>0.000000</td>\n",
              "      <td>0.000000</td>\n",
              "      <td>0.000000</td>\n",
              "      <td>0.000000</td>\n",
              "      <td>0.000000</td>\n",
              "      <td>0.0</td>\n",
              "      <td>0.000000</td>\n",
              "      <td>...</td>\n",
              "      <td>0.000000</td>\n",
              "      <td>0.000000</td>\n",
              "      <td>0.000000</td>\n",
              "      <td>0.000000</td>\n",
              "      <td>0.000000</td>\n",
              "      <td>0.000000</td>\n",
              "      <td>0.000000</td>\n",
              "      <td>0.000000</td>\n",
              "      <td>0.000000</td>\n",
              "      <td>0.000000</td>\n",
              "    </tr>\n",
              "    <tr>\n",
              "      <th>25%</th>\n",
              "      <td>88290.000000</td>\n",
              "      <td>1.000000</td>\n",
              "      <td>0.000000</td>\n",
              "      <td>0.000000</td>\n",
              "      <td>2.000000</td>\n",
              "      <td>0.000000</td>\n",
              "      <td>1.000000</td>\n",
              "      <td>0.000000</td>\n",
              "      <td>0.0</td>\n",
              "      <td>0.000000</td>\n",
              "      <td>...</td>\n",
              "      <td>0.000000</td>\n",
              "      <td>0.000000</td>\n",
              "      <td>0.000000</td>\n",
              "      <td>0.000000</td>\n",
              "      <td>0.000000</td>\n",
              "      <td>0.000000</td>\n",
              "      <td>0.000000</td>\n",
              "      <td>1.000000</td>\n",
              "      <td>3.000000</td>\n",
              "      <td>0.000000</td>\n",
              "    </tr>\n",
              "    <tr>\n",
              "      <th>50%</th>\n",
              "      <td>103447.000000</td>\n",
              "      <td>1.000000</td>\n",
              "      <td>0.000000</td>\n",
              "      <td>0.000000</td>\n",
              "      <td>3.000000</td>\n",
              "      <td>0.000000</td>\n",
              "      <td>3.000000</td>\n",
              "      <td>0.000000</td>\n",
              "      <td>0.0</td>\n",
              "      <td>0.000000</td>\n",
              "      <td>...</td>\n",
              "      <td>0.000000</td>\n",
              "      <td>0.000000</td>\n",
              "      <td>0.000000</td>\n",
              "      <td>0.000000</td>\n",
              "      <td>0.000000</td>\n",
              "      <td>0.000000</td>\n",
              "      <td>0.000000</td>\n",
              "      <td>1.000000</td>\n",
              "      <td>9.000000</td>\n",
              "      <td>1.000000</td>\n",
              "    </tr>\n",
              "    <tr>\n",
              "      <th>75%</th>\n",
              "      <td>133553.000000</td>\n",
              "      <td>1.000000</td>\n",
              "      <td>0.000000</td>\n",
              "      <td>1.000000</td>\n",
              "      <td>3.000000</td>\n",
              "      <td>0.000000</td>\n",
              "      <td>6.000000</td>\n",
              "      <td>1.000000</td>\n",
              "      <td>0.0</td>\n",
              "      <td>0.000000</td>\n",
              "      <td>...</td>\n",
              "      <td>1.000000</td>\n",
              "      <td>0.000000</td>\n",
              "      <td>0.000000</td>\n",
              "      <td>0.000000</td>\n",
              "      <td>0.000000</td>\n",
              "      <td>0.000000</td>\n",
              "      <td>0.000000</td>\n",
              "      <td>3.000000</td>\n",
              "      <td>18.000000</td>\n",
              "      <td>1.000000</td>\n",
              "    </tr>\n",
              "    <tr>\n",
              "      <th>max</th>\n",
              "      <td>383864.000000</td>\n",
              "      <td>201.000000</td>\n",
              "      <td>1.000000</td>\n",
              "      <td>2.000000</td>\n",
              "      <td>5.000000</td>\n",
              "      <td>1.000000</td>\n",
              "      <td>13.000000</td>\n",
              "      <td>3.000000</td>\n",
              "      <td>0.0</td>\n",
              "      <td>1.000000</td>\n",
              "      <td>...</td>\n",
              "      <td>1.000000</td>\n",
              "      <td>1.000000</td>\n",
              "      <td>1.000000</td>\n",
              "      <td>1.000000</td>\n",
              "      <td>1.000000</td>\n",
              "      <td>1.000000</td>\n",
              "      <td>1.000000</td>\n",
              "      <td>4.000000</td>\n",
              "      <td>1403.000000</td>\n",
              "      <td>1.000000</td>\n",
              "    </tr>\n",
              "  </tbody>\n",
              "</table>\n",
              "<p>8 rows × 56 columns</p>\n",
              "</div>\n",
              "    <div class=\"colab-df-buttons\">\n",
              "\n",
              "  <div class=\"colab-df-container\">\n",
              "    <button class=\"colab-df-convert\" onclick=\"convertToInteractive('df-573493b8-3153-4df1-8399-1fd976b5fc31')\"\n",
              "            title=\"Convert this dataframe to an interactive table.\"\n",
              "            style=\"display:none;\">\n",
              "\n",
              "  <svg xmlns=\"http://www.w3.org/2000/svg\" height=\"24px\" viewBox=\"0 -960 960 960\">\n",
              "    <path d=\"M120-120v-720h720v720H120Zm60-500h600v-160H180v160Zm220 220h160v-160H400v160Zm0 220h160v-160H400v160ZM180-400h160v-160H180v160Zm440 0h160v-160H620v160ZM180-180h160v-160H180v160Zm440 0h160v-160H620v160Z\"/>\n",
              "  </svg>\n",
              "    </button>\n",
              "\n",
              "  <style>\n",
              "    .colab-df-container {\n",
              "      display:flex;\n",
              "      gap: 12px;\n",
              "    }\n",
              "\n",
              "    .colab-df-convert {\n",
              "      background-color: #E8F0FE;\n",
              "      border: none;\n",
              "      border-radius: 50%;\n",
              "      cursor: pointer;\n",
              "      display: none;\n",
              "      fill: #1967D2;\n",
              "      height: 32px;\n",
              "      padding: 0 0 0 0;\n",
              "      width: 32px;\n",
              "    }\n",
              "\n",
              "    .colab-df-convert:hover {\n",
              "      background-color: #E2EBFA;\n",
              "      box-shadow: 0px 1px 2px rgba(60, 64, 67, 0.3), 0px 1px 3px 1px rgba(60, 64, 67, 0.15);\n",
              "      fill: #174EA6;\n",
              "    }\n",
              "\n",
              "    .colab-df-buttons div {\n",
              "      margin-bottom: 4px;\n",
              "    }\n",
              "\n",
              "    [theme=dark] .colab-df-convert {\n",
              "      background-color: #3B4455;\n",
              "      fill: #D2E3FC;\n",
              "    }\n",
              "\n",
              "    [theme=dark] .colab-df-convert:hover {\n",
              "      background-color: #434B5C;\n",
              "      box-shadow: 0px 1px 3px 1px rgba(0, 0, 0, 0.15);\n",
              "      filter: drop-shadow(0px 1px 2px rgba(0, 0, 0, 0.3));\n",
              "      fill: #FFFFFF;\n",
              "    }\n",
              "  </style>\n",
              "\n",
              "    <script>\n",
              "      const buttonEl =\n",
              "        document.querySelector('#df-573493b8-3153-4df1-8399-1fd976b5fc31 button.colab-df-convert');\n",
              "      buttonEl.style.display =\n",
              "        google.colab.kernel.accessAllowed ? 'block' : 'none';\n",
              "\n",
              "      async function convertToInteractive(key) {\n",
              "        const element = document.querySelector('#df-573493b8-3153-4df1-8399-1fd976b5fc31');\n",
              "        const dataTable =\n",
              "          await google.colab.kernel.invokeFunction('convertToInteractive',\n",
              "                                                    [key], {});\n",
              "        if (!dataTable) return;\n",
              "\n",
              "        const docLinkHtml = 'Like what you see? Visit the ' +\n",
              "          '<a target=\"_blank\" href=https://colab.research.google.com/notebooks/data_table.ipynb>data table notebook</a>'\n",
              "          + ' to learn more about interactive tables.';\n",
              "        element.innerHTML = '';\n",
              "        dataTable['output_type'] = 'display_data';\n",
              "        await google.colab.output.renderOutput(dataTable, element);\n",
              "        const docLink = document.createElement('div');\n",
              "        docLink.innerHTML = docLinkHtml;\n",
              "        element.appendChild(docLink);\n",
              "      }\n",
              "    </script>\n",
              "  </div>\n",
              "\n",
              "\n",
              "<div id=\"df-2eb97421-c68a-4418-aca2-e38f5a58217e\">\n",
              "  <button class=\"colab-df-quickchart\" onclick=\"quickchart('df-2eb97421-c68a-4418-aca2-e38f5a58217e')\"\n",
              "            title=\"Suggest charts\"\n",
              "            style=\"display:none;\">\n",
              "\n",
              "<svg xmlns=\"http://www.w3.org/2000/svg\" height=\"24px\"viewBox=\"0 0 24 24\"\n",
              "     width=\"24px\">\n",
              "    <g>\n",
              "        <path d=\"M19 3H5c-1.1 0-2 .9-2 2v14c0 1.1.9 2 2 2h14c1.1 0 2-.9 2-2V5c0-1.1-.9-2-2-2zM9 17H7v-7h2v7zm4 0h-2V7h2v10zm4 0h-2v-4h2v4z\"/>\n",
              "    </g>\n",
              "</svg>\n",
              "  </button>\n",
              "\n",
              "<style>\n",
              "  .colab-df-quickchart {\n",
              "      --bg-color: #E8F0FE;\n",
              "      --fill-color: #1967D2;\n",
              "      --hover-bg-color: #E2EBFA;\n",
              "      --hover-fill-color: #174EA6;\n",
              "      --disabled-fill-color: #AAA;\n",
              "      --disabled-bg-color: #DDD;\n",
              "  }\n",
              "\n",
              "  [theme=dark] .colab-df-quickchart {\n",
              "      --bg-color: #3B4455;\n",
              "      --fill-color: #D2E3FC;\n",
              "      --hover-bg-color: #434B5C;\n",
              "      --hover-fill-color: #FFFFFF;\n",
              "      --disabled-bg-color: #3B4455;\n",
              "      --disabled-fill-color: #666;\n",
              "  }\n",
              "\n",
              "  .colab-df-quickchart {\n",
              "    background-color: var(--bg-color);\n",
              "    border: none;\n",
              "    border-radius: 50%;\n",
              "    cursor: pointer;\n",
              "    display: none;\n",
              "    fill: var(--fill-color);\n",
              "    height: 32px;\n",
              "    padding: 0;\n",
              "    width: 32px;\n",
              "  }\n",
              "\n",
              "  .colab-df-quickchart:hover {\n",
              "    background-color: var(--hover-bg-color);\n",
              "    box-shadow: 0 1px 2px rgba(60, 64, 67, 0.3), 0 1px 3px 1px rgba(60, 64, 67, 0.15);\n",
              "    fill: var(--button-hover-fill-color);\n",
              "  }\n",
              "\n",
              "  .colab-df-quickchart-complete:disabled,\n",
              "  .colab-df-quickchart-complete:disabled:hover {\n",
              "    background-color: var(--disabled-bg-color);\n",
              "    fill: var(--disabled-fill-color);\n",
              "    box-shadow: none;\n",
              "  }\n",
              "\n",
              "  .colab-df-spinner {\n",
              "    border: 2px solid var(--fill-color);\n",
              "    border-color: transparent;\n",
              "    border-bottom-color: var(--fill-color);\n",
              "    animation:\n",
              "      spin 1s steps(1) infinite;\n",
              "  }\n",
              "\n",
              "  @keyframes spin {\n",
              "    0% {\n",
              "      border-color: transparent;\n",
              "      border-bottom-color: var(--fill-color);\n",
              "      border-left-color: var(--fill-color);\n",
              "    }\n",
              "    20% {\n",
              "      border-color: transparent;\n",
              "      border-left-color: var(--fill-color);\n",
              "      border-top-color: var(--fill-color);\n",
              "    }\n",
              "    30% {\n",
              "      border-color: transparent;\n",
              "      border-left-color: var(--fill-color);\n",
              "      border-top-color: var(--fill-color);\n",
              "      border-right-color: var(--fill-color);\n",
              "    }\n",
              "    40% {\n",
              "      border-color: transparent;\n",
              "      border-right-color: var(--fill-color);\n",
              "      border-top-color: var(--fill-color);\n",
              "    }\n",
              "    60% {\n",
              "      border-color: transparent;\n",
              "      border-right-color: var(--fill-color);\n",
              "    }\n",
              "    80% {\n",
              "      border-color: transparent;\n",
              "      border-right-color: var(--fill-color);\n",
              "      border-bottom-color: var(--fill-color);\n",
              "    }\n",
              "    90% {\n",
              "      border-color: transparent;\n",
              "      border-bottom-color: var(--fill-color);\n",
              "    }\n",
              "  }\n",
              "</style>\n",
              "\n",
              "  <script>\n",
              "    async function quickchart(key) {\n",
              "      const quickchartButtonEl =\n",
              "        document.querySelector('#' + key + ' button');\n",
              "      quickchartButtonEl.disabled = true;  // To prevent multiple clicks.\n",
              "      quickchartButtonEl.classList.add('colab-df-spinner');\n",
              "      try {\n",
              "        const charts = await google.colab.kernel.invokeFunction(\n",
              "            'suggestCharts', [key], {});\n",
              "      } catch (error) {\n",
              "        console.error('Error during call to suggestCharts:', error);\n",
              "      }\n",
              "      quickchartButtonEl.classList.remove('colab-df-spinner');\n",
              "      quickchartButtonEl.classList.add('colab-df-quickchart-complete');\n",
              "    }\n",
              "    (() => {\n",
              "      let quickchartButtonEl =\n",
              "        document.querySelector('#df-2eb97421-c68a-4418-aca2-e38f5a58217e button');\n",
              "      quickchartButtonEl.style.display =\n",
              "        google.colab.kernel.accessAllowed ? 'block' : 'none';\n",
              "    })();\n",
              "  </script>\n",
              "</div>\n",
              "\n",
              "    </div>\n",
              "  </div>\n"
            ],
            "application/vnd.google.colaboratory.intrinsic+json": {
              "type": "dataframe"
            }
          },
          "metadata": {},
          "execution_count": 9
        }
      ],
      "source": [
        "# Descriptive Statistics\n",
        "df.describe()"
      ]
    },
    {
      "cell_type": "code",
      "execution_count": null,
      "id": "4d4cda0d-989f-451b-9f93-0ca8f611f67c",
      "metadata": {
        "id": "4d4cda0d-989f-451b-9f93-0ca8f611f67c"
      },
      "outputs": [],
      "source": [
        "# Function to find outliers in each column\n",
        "def find_outliers(column):\n",
        "    Q1 = column.quantile(0.25)\n",
        "    Q3 = column.quantile(0.75)\n",
        "    IQR = Q3 - Q1\n",
        "    lower_bound = Q1 - 1.5 * IQR\n",
        "    upper_bound = Q3 + 1.5 * IQR\n",
        "\n",
        "    return column[(column < lower_bound) | (column > upper_bound)]\n",
        "\n",
        "# Function to print out the number of outliers\n",
        "def print_outlier_counts(dataframe):\n",
        "    # Consider all columns\n",
        "    columns_to_check = dataframe.columns\n",
        "\n",
        "    for column in columns_to_check:\n",
        "        if dataframe[column].dtype in ['float64', 'int64']:  # Checks if the column is numeric\n",
        "            outliers = find_outliers(dataframe[column])\n",
        "            print(f\"The column '{column}' has {len(outliers)} outliers.\")"
      ]
    },
    {
      "cell_type": "code",
      "execution_count": null,
      "id": "276c7fd2-fc7b-4a34-a217-dd6e846613d5",
      "metadata": {
        "colab": {
          "base_uri": "https://localhost:8080/"
        },
        "id": "276c7fd2-fc7b-4a34-a217-dd6e846613d5",
        "outputId": "069a5e43-2058-4bd2-e56e-40c52941e2b3"
      },
      "outputs": [
        {
          "output_type": "stream",
          "name": "stdout",
          "text": [
            "The column 'Salary' has 380 outliers.\n",
            "The column 'NumberOfVacancies' has 748 outliers.\n",
            "The column 'Flexibility' has 616 outliers.\n",
            "The column 'Remoteness' has 0 outliers.\n",
            "The column 'Region' has 516 outliers.\n",
            "The column 'Vacancy6MonthsOrLess' has 1372 outliers.\n",
            "The column 'Department' has 0 outliers.\n",
            "The column 'ClassificationLevel' has 408 outliers.\n",
            "The column 'Animal and Horticulture' has 0 outliers.\n",
            "The column 'Engineering' has 86 outliers.\n",
            "The column 'Cadetship and Graduate Programs' has 0 outliers.\n",
            "The column 'Grants and Contract Management' has 0 outliers.\n",
            "The column 'Allied Health and Health Care Services' has 794 outliers.\n",
            "The column 'Hospitality and Food Services' has 32 outliers.\n",
            "The column 'Community Services' has 134 outliers.\n",
            "The column 'Communication' has 124 outliers.\n",
            "The column 'Transport and Logistics' has 20 outliers.\n",
            "The column 'Payroll' has 11 outliers.\n",
            "The column 'Tourism and Culture' has 54 outliers.\n",
            "The column 'Information and Communication Technology (ICT)' has 238 outliers.\n",
            "The column 'Prison Services' has 58 outliers.\n",
            "The column 'Child Protection' has 246 outliers.\n",
            "The column 'Architecture and Design' has 0 outliers.\n",
            "The column 'Legal' has 100 outliers.\n",
            "The column 'Professional' has 244 outliers.\n",
            "The column 'Information and Records Management' has 61 outliers.\n",
            "The column 'Human Resources and Work Health Safety' has 115 outliers.\n",
            "The column 'Environment' has 212 outliers.\n",
            "The column 'Police' has 48 outliers.\n",
            "The column 'Construction' has 42 outliers.\n",
            "The column 'Media and Public Relations' has 0 outliers.\n",
            "The column 'Housekeeping Services' has 23 outliers.\n",
            "The column 'Aged and Disability Care' has 101 outliers.\n",
            "The column 'Fire and Emergency Workers' has 0 outliers.\n",
            "The column 'Traineeship' has 14 outliers.\n",
            "The column 'Social Work' has 22 outliers.\n",
            "The column 'Education and Training' has 1678 outliers.\n",
            "The column 'Maintenance and Services' has 0 outliers.\n",
            "The column 'Sport and Recreation' has 7 outliers.\n",
            "The column 'Medical' has 300 outliers.\n",
            "The column 'Vacation Employment' has 7 outliers.\n",
            "The column 'Primary Industry' has 15 outliers.\n",
            "The column 'Procurement' has 90 outliers.\n",
            "The column 'Accounting and Finance' has 391 outliers.\n",
            "The column 'Trades' has 139 outliers.\n",
            "The column 'Natural Resources and Conservation' has 0 outliers.\n",
            "The column 'Administration and Business Services' has 0 outliers.\n",
            "The column 'Executive and Senior Management' has 175 outliers.\n",
            "The column 'Program and Project Management' has 149 outliers.\n",
            "The column 'Probation and Parole Officer' has 40 outliers.\n",
            "The column 'Science' has 15 outliers.\n",
            "The column 'Agriculture' has 88 outliers.\n",
            "The column 'Nursing and Midwifery' has 832 outliers.\n",
            "The column 'VacancyType' has 0 outliers.\n",
            "The column 'NumberOfApplicants' has 728 outliers.\n",
            "The column 'Success' has 0 outliers.\n"
          ]
        }
      ],
      "source": [
        "print_outlier_counts(df)"
      ]
    },
    {
      "cell_type": "markdown",
      "id": "7ebb84ba-a5dd-4085-8012-a63ec261a523",
      "metadata": {
        "id": "7ebb84ba-a5dd-4085-8012-a63ec261a523"
      },
      "source": [
        "## Building Classification Models"
      ]
    },
    {
      "cell_type": "markdown",
      "id": "41a6e8ff-7cc4-47d0-9dbc-5a69493c9d52",
      "metadata": {
        "id": "41a6e8ff-7cc4-47d0-9dbc-5a69493c9d52"
      },
      "source": [
        "### Balancing Data"
      ]
    },
    {
      "cell_type": "markdown",
      "id": "2cff8c81-291f-4bc6-8ff9-c0d1ecf447d5",
      "metadata": {
        "id": "2cff8c81-291f-4bc6-8ff9-c0d1ecf447d5"
      },
      "source": [
        "Balancing data ensures the model doesn't become biased toward the majority class, leading to more accurate and fair predictions across all classes."
      ]
    },
    {
      "cell_type": "markdown",
      "id": "fc8f0b9a-29b5-4e41-be6c-82e3d73bb96c",
      "metadata": {
        "id": "fc8f0b9a-29b5-4e41-be6c-82e3d73bb96c"
      },
      "source": [
        "#### Before Data Balancing"
      ]
    },
    {
      "cell_type": "code",
      "execution_count": null,
      "id": "1dee3101-c5ca-4417-9fa9-e8b803f8e0f2",
      "metadata": {
        "colab": {
          "base_uri": "https://localhost:8080/",
          "height": 707
        },
        "id": "1dee3101-c5ca-4417-9fa9-e8b803f8e0f2",
        "outputId": "d4ada4bf-e8da-429a-9d47-b80e11c3a3cc"
      },
      "outputs": [
        {
          "output_type": "display_data",
          "data": {
            "text/plain": [
              "<Figure size 700x700 with 1 Axes>"
            ],
            "image/png": "[encoded data removed]"
          },
          "metadata": {}
        }
      ],
      "source": [
        "# Check the balance of 2 subsets in the dataset.\n",
        "label_counts = df['Success'].value_counts().sort_index()  # Ensure the labels are sorted\n",
        "\n",
        "plt.figure(figsize=(7, 7))\n",
        "ax = label_counts.plot(kind='bar', color='orange')  # 'ax' captures the plot axes\n",
        "plt.title('Before SMOTE Balancing')\n",
        "plt.xlabel('Success')\n",
        "plt.ylabel('Number of Samples')\n",
        "\n",
        "# Set custom x-tick labels\n",
        "plt.xticks(ticks=range(2), labels=['No', 'Yes'], rotation=0)\n",
        "\n",
        "# Annotate each bar with its height value\n",
        "for p in ax.patches:\n",
        "    ax.annotate(str(p.get_height()), (p.get_x() + p.get_width() / 2., p.get_height()), ha='center', va='center', xytext=(0, 10), textcoords='offset points')\n",
        "\n",
        "plt.tight_layout()\n",
        "plt.show()"
      ]
    },
    {
      "cell_type": "markdown",
      "id": "3c94fbb8-b1e0-45bf-a926-1d186ba22233",
      "metadata": {
        "id": "3c94fbb8-b1e0-45bf-a926-1d186ba22233"
      },
      "source": [
        "#### After SMOTE Balancing"
      ]
    },
    {
      "cell_type": "code",
      "execution_count": null,
      "id": "d58f7fcf-db5f-4811-b540-c0ba267d91ff",
      "metadata": {
        "colab": {
          "base_uri": "https://localhost:8080/",
          "height": 707
        },
        "id": "d58f7fcf-db5f-4811-b540-c0ba267d91ff",
        "outputId": "c0cabf19-b7a2-45df-858b-22b25c2da035"
      },
      "outputs": [
        {
          "output_type": "display_data",
          "data": {
            "text/plain": [
              "<Figure size 700x700 with 1 Axes>"
            ],
            "image/png": "[encoded data removed]"
          },
          "metadata": {}
        }
      ],
      "source": [
        "df['Success'] = df['Success'].astype(int)\n",
        "\n",
        "# Separate feataures and the target variable\n",
        "X = df.drop('Success', axis=1)\n",
        "y = df['Success']\n",
        "\n",
        "# Apply SMOTE\n",
        "smote = SMOTE(random_state=0)\n",
        "X_resampled, y_resampled = smote.fit_resample(X, y)\n",
        "\n",
        "# Convert y_resampled to a DataFrame and count the occurrences of each class\n",
        "y_resampled_df = pd.DataFrame(y_resampled, columns=['Success'])\n",
        "label_counts_resampled = y_resampled_df['Success'].value_counts().sort_index()\n",
        "\n",
        "# Plot the balanced data\n",
        "plt.figure(figsize=(7, 7))\n",
        "ax = label_counts_resampled.plot(kind='bar', color='green')  # 'ax' captures the plot axes\n",
        "plt.title('After SMOTE Balancing')\n",
        "plt.xlabel('Success')\n",
        "plt.ylabel('Number of Samples')\n",
        "\n",
        "# Set custom x-tick labels\n",
        "plt.xticks(ticks=range(2), labels=['No', 'Yes'], rotation=0)\n",
        "\n",
        "# Annotate each bar with its height value\n",
        "for p in ax.patches:\n",
        "    ax.annotate(str(p.get_height()), (p.get_x() + p.get_width() / 2., p.get_height()), ha='center', va='center', xytext=(0, 10), textcoords='offset points')\n",
        "\n",
        "plt.tight_layout()\n",
        "plt.show()"
      ]
    },
    {
      "cell_type": "markdown",
      "id": "19dd4763-af00-495c-962f-6e5aa975e9ea",
      "metadata": {
        "id": "19dd4763-af00-495c-962f-6e5aa975e9ea"
      },
      "source": [
        "### Naive Bayes"
      ]
    },
    {
      "cell_type": "code",
      "execution_count": null,
      "id": "fd13480f-6fcb-484b-b809-f292c145633c",
      "metadata": {
        "id": "fd13480f-6fcb-484b-b809-f292c145633c"
      },
      "outputs": [],
      "source": [
        "# Function to run Gaussian Naive Bayes Model\n",
        "def GNB(X, y):\n",
        "    # Identify numerical columns for standardization\n",
        "    numerical_cols = X.select_dtypes(include=['int64', 'float64']).columns\n",
        "    X_numerical = X[numerical_cols]\n",
        "\n",
        "    # Splitting the dataset into training and test sets\n",
        "    X_train, X_test, y_train, y_test = train_test_split(X_numerical, y, test_size=0.2, random_state=0)\n",
        "\n",
        "    # Standardising the numerical features\n",
        "    scaler = StandardScaler()\n",
        "    X_train_scaled = scaler.fit_transform(X_train)\n",
        "    X_test_scaled = scaler.transform(X_test)\n",
        "\n",
        "    # Initialize the Gaussian Naive Bayes model\n",
        "    gnb = GaussianNB()\n",
        "\n",
        "    # Applying 5-fold cross-validation\n",
        "    cv_results = cross_validate(gnb, X_train_scaled, y_train, cv=5,\n",
        "                                scoring=('accuracy', 'precision_macro', 'recall_macro', 'f1_macro'))\n",
        "\n",
        "    # Training the model on the full training data\n",
        "    gnb.fit(X_train_scaled, y_train)\n",
        "\n",
        "    # Predicting on the test set\n",
        "    y_pred = gnb.predict(X_test_scaled)\n",
        "\n",
        "    # Evaluation metrics\n",
        "    accuracy_NB = accuracy_score(y_test, y_pred)\n",
        "    precision_NB = precision_score(y_test, y_pred, average='macro')\n",
        "    recall_NB = recall_score(y_test, y_pred, average='macro')\n",
        "    f1_NB = f1_score(y_test, y_pred, average='macro')\n",
        "\n",
        "    print(\"Accuracy:\", accuracy_NB)\n",
        "    print(\"Precision:\", precision_NB)\n",
        "    print(\"Recall:\", recall_NB)\n",
        "    print(\"F1-Score:\", f1_NB)\n",
        "\n",
        "    return accuracy_NB, precision_NB, recall_NB, f1_NB"
      ]
    },
    {
      "cell_type": "code",
      "execution_count": null,
      "id": "6131f54c-02bc-4fb4-8244-f5e0626c70c0",
      "metadata": {
        "colab": {
          "base_uri": "https://localhost:8080/"
        },
        "id": "6131f54c-02bc-4fb4-8244-f5e0626c70c0",
        "outputId": "0f4e4adf-d393-4fce-8ef1-3bb31cd29e03"
      },
      "outputs": [
        {
          "output_type": "stream",
          "name": "stdout",
          "text": [
            "Accuracy: 0.40563991323210413\n",
            "Precision: 0.540423956467833\n",
            "Recall: 0.5117654429269515\n",
            "F1-Score: 0.3457292587954827\n"
          ]
        }
      ],
      "source": [
        "# Before SMOTE balancing\n",
        "accuracy_NB1, precision_NB1, recall_NB1, f1_NB1 = GNB(X, y)"
      ]
    },
    {
      "cell_type": "code",
      "execution_count": null,
      "id": "6d25013f-b940-46a1-b2f1-6b7ae65c8c8b",
      "metadata": {
        "colab": {
          "base_uri": "https://localhost:8080/"
        },
        "id": "6d25013f-b940-46a1-b2f1-6b7ae65c8c8b",
        "outputId": "cfc42cf5-17cd-4119-fbb7-263688f8f035"
      },
      "outputs": [
        {
          "output_type": "stream",
          "name": "stdout",
          "text": [
            "Accuracy: 0.5293095961788971\n",
            "Precision: 0.5879376140700182\n",
            "Recall: 0.5391993491428821\n",
            "F1-Score: 0.45962838861615457\n"
          ]
        }
      ],
      "source": [
        "# After SMOTE balancing\n",
        "accuracy_NB2, precision_NB2, recall_NB2, f1_NB2 = GNB(X_resampled, y_resampled)"
      ]
    },
    {
      "cell_type": "markdown",
      "id": "d1e3d7bf-5f9d-487a-9381-db8511d4697d",
      "metadata": {
        "id": "d1e3d7bf-5f9d-487a-9381-db8511d4697d"
      },
      "source": [
        "=> Naive Bayes model's performance is better after SMOTE sampling."
      ]
    },
    {
      "cell_type": "markdown",
      "id": "0b7872ab-3737-4c45-9e80-2184767a266a",
      "metadata": {
        "id": "0b7872ab-3737-4c45-9e80-2184767a266a"
      },
      "source": [
        "### Logistic Regression"
      ]
    },
    {
      "cell_type": "code",
      "execution_count": null,
      "id": "ee49d179-26f1-41bd-8d4b-00ce850ab371",
      "metadata": {
        "id": "ee49d179-26f1-41bd-8d4b-00ce850ab371"
      },
      "outputs": [],
      "source": [
        "# Function to run Logistic Regression Model\n",
        "def logistic_regression(X, y):\n",
        "    # Identify numerical columns for standardization\n",
        "    numerical_cols = X.select_dtypes(include=['int64', 'float64']).columns\n",
        "    X_numerical = X[numerical_cols]\n",
        "\n",
        "    # Splitting the dataset into training and test sets\n",
        "    X_train, X_test, y_train, y_test = train_test_split(X_numerical, y, test_size=0.2, random_state=0)\n",
        "\n",
        "    # Standardising the numerical features\n",
        "    scaler = StandardScaler()\n",
        "    X_train_scaled = scaler.fit_transform(X_train)\n",
        "    X_test_scaled = scaler.transform(X_test)\n",
        "\n",
        "    # Initialize the Logistic Regression model\n",
        "    log_reg = LogisticRegression(random_state=0)\n",
        "\n",
        "    # Applying 5-fold cross-validation\n",
        "    cv_results = cross_validate(log_reg, X_train_scaled, y_train, cv=5,\n",
        "                                scoring=('accuracy', 'precision_macro', 'recall_macro', 'f1_macro'))\n",
        "\n",
        "    # Training the model on the full training data\n",
        "    log_reg.fit(X_train_scaled, y_train)\n",
        "\n",
        "    # Predicting on the test set\n",
        "    y_pred = log_reg.predict(X_test_scaled)\n",
        "\n",
        "    # Evaluation metrics\n",
        "    accuracy_LR = accuracy_score(y_test, y_pred)\n",
        "    precision_LR = precision_score(y_test, y_pred, average='macro')\n",
        "    recall_LR = recall_score(y_test, y_pred, average='macro')\n",
        "    f1_LR = f1_score(y_test, y_pred, average='macro')\n",
        "\n",
        "    print(\"Accuracy:\", accuracy_LR)\n",
        "    print(\"Precision:\", precision_LR)\n",
        "    print(\"Recall:\", recall_LR)\n",
        "    print(\"F1-Score:\", f1_LR)\n",
        "\n",
        "    return accuracy_LR, precision_LR, recall_LR, f1_LR"
      ]
    },
    {
      "cell_type": "code",
      "execution_count": null,
      "id": "6ec8fa07-c82c-45a6-ac25-d6c6f77faf9e",
      "metadata": {
        "colab": {
          "base_uri": "https://localhost:8080/"
        },
        "id": "6ec8fa07-c82c-45a6-ac25-d6c6f77faf9e",
        "outputId": "872ffcd2-4905-44b7-974f-f01e95207b09"
      },
      "outputs": [
        {
          "output_type": "stream",
          "name": "stdout",
          "text": [
            "Accuracy: 0.661062906724512\n",
            "Precision: 0.6401408088802096\n",
            "Recall: 0.5854216263626112\n",
            "F1-Score: 0.5746879353451855\n"
          ]
        }
      ],
      "source": [
        "# Before SMOTE balancing\n",
        "accuracy_LR1, precision_LR1, recall_LR1, f1_LR1 = logistic_regression(X, y)"
      ]
    },
    {
      "cell_type": "code",
      "execution_count": null,
      "id": "9d016acb-84b8-4638-87bd-5c00de7e36d4",
      "metadata": {
        "colab": {
          "base_uri": "https://localhost:8080/"
        },
        "id": "9d016acb-84b8-4638-87bd-5c00de7e36d4",
        "outputId": "2963f1c4-e08c-4c45-ad37-34085cecd8bc"
      },
      "outputs": [
        {
          "output_type": "stream",
          "name": "stdout",
          "text": [
            "Accuracy: 0.6873643074250977\n",
            "Precision: 0.6871319786219043\n",
            "Recall: 0.6869836878180136\n",
            "F1-Score: 0.6870323869461687\n"
          ]
        }
      ],
      "source": [
        "# After SMOTE balancing\n",
        "accuracy_LR2, precision_LR2, recall_LR2, f1_LR2 = logistic_regression(X_resampled, y_resampled)"
      ]
    },
    {
      "cell_type": "markdown",
      "id": "b8953572-44af-41ab-b805-34778e75b8dd",
      "metadata": {
        "id": "b8953572-44af-41ab-b805-34778e75b8dd"
      },
      "source": [
        "=> Logistic Regression model's performance is better after SMOTE sampling."
      ]
    },
    {
      "cell_type": "markdown",
      "id": "98160542-0ab8-4338-8278-8385d02d9724",
      "metadata": {
        "id": "98160542-0ab8-4338-8278-8385d02d9724"
      },
      "source": [
        "### Decision Tree"
      ]
    },
    {
      "cell_type": "code",
      "execution_count": null,
      "id": "493c4103-fc2a-428a-af2f-faf530329f5e",
      "metadata": {
        "id": "493c4103-fc2a-428a-af2f-faf530329f5e"
      },
      "outputs": [],
      "source": [
        "# Function to run Decision Tree Model\n",
        "def decision_tree(X, y):\n",
        "    # Identify numerical columns for standardization\n",
        "    numerical_cols = X.select_dtypes(include=['int64', 'float64']).columns\n",
        "    X_numerical = X[numerical_cols]\n",
        "\n",
        "    # Splitting the dataset into training and test sets\n",
        "    X_train, X_test, y_train, y_test = train_test_split(X_numerical, y, test_size=0.2, random_state=0)\n",
        "\n",
        "    # Standardising the numerical features\n",
        "    scaler = StandardScaler()\n",
        "    X_train_scaled = scaler.fit_transform(X_train)\n",
        "    X_test_scaled = scaler.transform(X_test)\n",
        "\n",
        "    # Initialize the Decision Tree model\n",
        "    dt_model = DecisionTreeClassifier(random_state=0)\n",
        "\n",
        "    # Applying 5-fold cross-validation\n",
        "    cv_results = cross_validate(dt_model, X_train_scaled, y_train, cv=5,\n",
        "                                scoring=('accuracy', 'precision_macro', 'recall_macro', 'f1_macro'))\n",
        "\n",
        "    # Training the model on the full training data\n",
        "    dt_model.fit(X_train_scaled, y_train)\n",
        "\n",
        "    # Predicting on the test set\n",
        "    y_pred = dt_model.predict(X_test_scaled)\n",
        "\n",
        "    # Evaluation metrics\n",
        "    accuracy_DT = accuracy_score(y_test, y_pred)\n",
        "    precision_DT = precision_score(y_test, y_pred, average='macro')\n",
        "    recall_DT = recall_score(y_test, y_pred, average='macro')\n",
        "    f1_DT = f1_score(y_test, y_pred, average='macro')\n",
        "\n",
        "    print(\"Decision Tree - Accuracy:\", accuracy_DT)\n",
        "    print(\"Decision Tree - Precision:\", precision_DT)\n",
        "    print(\"Decision Tree - Recall:\", recall_DT)\n",
        "    print(\"Decision Tree - F1-Score:\", f1_DT)\n",
        "\n",
        "    return accuracy_DT, precision_DT, recall_DT, f1_DT"
      ]
    },
    {
      "cell_type": "code",
      "execution_count": null,
      "id": "19a2891a-968c-473c-80e3-bb26c910236b",
      "metadata": {
        "colab": {
          "base_uri": "https://localhost:8080/"
        },
        "id": "19a2891a-968c-473c-80e3-bb26c910236b",
        "outputId": "dd27a80b-1795-4ec0-a36e-c8089b0a815c"
      },
      "outputs": [
        {
          "output_type": "stream",
          "name": "stdout",
          "text": [
            "Accuracy: 0.661062906724512\n",
            "Precision: 0.6401408088802096\n",
            "Recall: 0.5854216263626112\n",
            "F1-Score: 0.5746879353451855\n"
          ]
        }
      ],
      "source": [
        "# Before SMOTE balancing\n",
        "accuracy_DT1, precision_DT1, recall_DT1, f1_DT1 = logistic_regression(X, y)"
      ]
    },
    {
      "cell_type": "code",
      "execution_count": null,
      "id": "fcf93ec1-792c-4b17-979d-5fc58b78fdcb",
      "metadata": {
        "colab": {
          "base_uri": "https://localhost:8080/"
        },
        "id": "fcf93ec1-792c-4b17-979d-5fc58b78fdcb",
        "outputId": "4e4a5cf8-2e6a-4625-d44a-d62144d46166"
      },
      "outputs": [
        {
          "output_type": "stream",
          "name": "stdout",
          "text": [
            "Accuracy: 0.6873643074250977\n",
            "Precision: 0.6871319786219043\n",
            "Recall: 0.6869836878180136\n",
            "F1-Score: 0.6870323869461687\n"
          ]
        }
      ],
      "source": [
        "# After SMOTE balancing\n",
        "accuracy_DT2, precision_DT2, recall_DT2, f1_DT2 = logistic_regression(X_resampled, y_resampled)"
      ]
    },
    {
      "cell_type": "markdown",
      "id": "824d6a1b-0b50-4bf0-a044-dcbb76a18514",
      "metadata": {
        "id": "824d6a1b-0b50-4bf0-a044-dcbb76a18514"
      },
      "source": [
        "=> Decision Tree model's performance is better after SMOTE sampling."
      ]
    },
    {
      "cell_type": "markdown",
      "id": "bea79d64-6da1-45b9-bad4-f4f999bc0681",
      "metadata": {
        "id": "bea79d64-6da1-45b9-bad4-f4f999bc0681"
      },
      "source": [
        "### Random Forest"
      ]
    },
    {
      "cell_type": "markdown",
      "id": "918a35c1-359d-4b3e-8f3e-072fba66cd52",
      "metadata": {
        "id": "918a35c1-359d-4b3e-8f3e-072fba66cd52"
      },
      "source": [
        "#### Weighted avaraging"
      ]
    },
    {
      "cell_type": "code",
      "execution_count": null,
      "id": "68cbc012-248c-40b3-b7a8-3190094fefc3",
      "metadata": {
        "id": "68cbc012-248c-40b3-b7a8-3190094fefc3"
      },
      "outputs": [],
      "source": [
        "# Function to run Random Forests model with weighted averaging\n",
        "def RF_weighted(X, y):\n",
        "    # Split the train, test sets\n",
        "    X_train, X_test, y_train, y_test = train_test_split(X, y, test_size=0.2, random_state=0)\n",
        "\n",
        "    # Initialize the Random Forest classifier\n",
        "    rfc = RandomForestClassifier(random_state=0)\n",
        "\n",
        "    # Applying 5-fold cross-validation\n",
        "    cv_results = cross_validate(rfc, X_train, y_train, cv=5,\n",
        "                                scoring=('accuracy', 'precision_weighted', 'recall_weighted', 'f1_weighted'))\n",
        "\n",
        "    # Training the model on the full training data\n",
        "    rfc.fit(X_train, y_train)\n",
        "\n",
        "    # Predicting on the test set\n",
        "    y_pred = rfc.predict(X_test)\n",
        "\n",
        "    # Evaluation metrics with weighted averaging\n",
        "    accuracy_RF = accuracy_score(y_test, y_pred)\n",
        "    precision_RF = precision_score(y_test, y_pred, average='weighted')\n",
        "    recall_RF = recall_score(y_test, y_pred, average='weighted')\n",
        "    f1_RF = f1_score(y_test, y_pred, average='weighted')\n",
        "\n",
        "    print(\"Accuracy:\", accuracy_RF)\n",
        "    print(\"Precision:\", precision_RF)\n",
        "    print(\"Recall:\", recall_RF)\n",
        "    print(\"F1-Score:\", f1_RF)\n",
        "\n",
        "    return rfc, accuracy_RF, precision_RF, recall_RF, f1_RF"
      ]
    },
    {
      "cell_type": "code",
      "execution_count": null,
      "id": "ce007ec4-4459-4904-b849-ac521758fe4a",
      "metadata": {
        "colab": {
          "base_uri": "https://localhost:8080/"
        },
        "id": "ce007ec4-4459-4904-b849-ac521758fe4a",
        "outputId": "3b18995d-5f7b-4aa4-9c9a-c82e8cdafb4f"
      },
      "outputs": [
        {
          "output_type": "stream",
          "name": "stdout",
          "text": [
            "Accuracy: 0.6795010845986985\n",
            "Precision: 0.6703218953165022\n",
            "Recall: 0.6795010845986985\n",
            "F1-Score: 0.6711200472312001\n"
          ]
        }
      ],
      "source": [
        "# Call the function\n",
        "rfc0, accuracy_RF0, precision_RF0, recall_RF0, f1_RF0 = RF_weighted(X, y)"
      ]
    },
    {
      "cell_type": "markdown",
      "id": "c14a00c7-16bd-4234-9319-d803416d4049",
      "metadata": {
        "id": "c14a00c7-16bd-4234-9319-d803416d4049"
      },
      "source": [
        "#### After SMOTE balancing"
      ]
    },
    {
      "cell_type": "code",
      "execution_count": null,
      "id": "110664c5-4aa5-47c2-b154-870a86d0c75e",
      "metadata": {
        "id": "110664c5-4aa5-47c2-b154-870a86d0c75e"
      },
      "outputs": [],
      "source": [
        "# Function to run Random Forests model\n",
        "def RF(X, y):\n",
        "    # For Random Forest, preprocessing like standardisation is not necessary\n",
        "    X_train, X_test, y_train, y_test = train_test_split(X, y, test_size=0.2, random_state=0)\n",
        "\n",
        "    # Initialise the Random Forest classifier\n",
        "    rfc = RandomForestClassifier(random_state=0)\n",
        "\n",
        "    # Applying 5-fold cross-validation\n",
        "    cv_results = cross_validate(rfc, X_train, y_train, cv=5,\n",
        "                                scoring=('accuracy', 'precision_macro', 'recall_macro', 'f1_macro'))\n",
        "\n",
        "    # Training the model on the full training data\n",
        "    rfc.fit(X_train, y_train)\n",
        "\n",
        "    # Predicting on the test set\n",
        "    y_pred = rfc.predict(X_test)\n",
        "\n",
        "    # Evaluation metrics\n",
        "    accuracy_RF_smote = accuracy_score(y_test, y_pred)\n",
        "    precision_RF_smote = precision_score(y_test, y_pred, average='macro')\n",
        "    recall_RF_smote = recall_score(y_test, y_pred, average='macro')\n",
        "    f1_RF_smote = f1_score(y_test, y_pred, average='macro')\n",
        "\n",
        "    print(\"Accuracy:\", accuracy_RF_smote)\n",
        "    print(\"Precision:\", precision_RF_smote)\n",
        "    print(\"Recall:\", recall_RF_smote)\n",
        "    print(\"F1-Score:\", f1_RF_smote)\n",
        "\n",
        "    return accuracy_RF_smote, precision_RF_smote, recall_RF_smote, f1_RF_smote"
      ]
    },
    {
      "cell_type": "code",
      "execution_count": null,
      "id": "50c1ad5a-c9bb-4aa2-90d0-c61898792fd3",
      "metadata": {
        "colab": {
          "base_uri": "https://localhost:8080/"
        },
        "id": "50c1ad5a-c9bb-4aa2-90d0-c61898792fd3",
        "outputId": "94845b5a-30ad-497b-c823-39c26265efb0"
      },
      "outputs": [
        {
          "output_type": "stream",
          "name": "stdout",
          "text": [
            "Accuracy: 0.7420755536257057\n",
            "Precision: 0.7419250558168904\n",
            "Recall: 0.7417333448048409\n",
            "F1-Score: 0.7418017192305892\n"
          ]
        }
      ],
      "source": [
        "# Call the function\n",
        "accuracy_RF_smote, precision_RF_smote, recall_RF_smote, f1_RF_smote = RF(X_resampled, y_resampled)"
      ]
    },
    {
      "cell_type": "markdown",
      "id": "df253d72-39de-4a49-833c-462fc9a1ceac",
      "metadata": {
        "id": "df253d72-39de-4a49-833c-462fc9a1ceac"
      },
      "source": [
        "=> Random Forest model's performance is better after SMOTE sampling."
      ]
    },
    {
      "cell_type": "markdown",
      "id": "281bfd1f-bbfb-4dbd-9f0e-1a49befbb076",
      "metadata": {
        "id": "281bfd1f-bbfb-4dbd-9f0e-1a49befbb076"
      },
      "source": [
        "### K-Nearest Neighbors"
      ]
    },
    {
      "cell_type": "code",
      "execution_count": null,
      "id": "84112fac-f495-4b20-8f9b-fba9fd36d07c",
      "metadata": {
        "id": "84112fac-f495-4b20-8f9b-fba9fd36d07c"
      },
      "outputs": [],
      "source": [
        "# Function to run KNN model\n",
        "def KNN(X, y):\n",
        "    # Splitting the dataset into training and test sets\n",
        "    X_train, X_test, y_train, y_test = train_test_split(X, y, test_size=0.2, random_state=0)\n",
        "\n",
        "    # Standardizing the features because KNN is sensitive to the scale of the data\n",
        "    scaler = StandardScaler()\n",
        "    X_train_scaled = scaler.fit_transform(X_train)\n",
        "    X_test_scaled = scaler.transform(X_test)\n",
        "\n",
        "    # Initialize the K-Nearest Neighbors classifier\n",
        "    knn = KNeighborsClassifier()\n",
        "\n",
        "    # Applying 5-fold cross-validation\n",
        "    cv_results = cross_validate(knn, X_train_scaled, y_train, cv=5,\n",
        "                                scoring=('accuracy', 'precision_macro', 'recall_macro', 'f1_macro'))\n",
        "\n",
        "    # Training the model on the full training data\n",
        "    knn.fit(X_train_scaled, y_train)\n",
        "\n",
        "    # Predicting on the test set\n",
        "    y_pred = knn.predict(X_test_scaled)\n",
        "\n",
        "    # Evaluation metrics\n",
        "    accuracy_KNN = accuracy_score(y_test, y_pred)\n",
        "    precision_KNN = precision_score(y_test, y_pred, average='macro')\n",
        "    recall_KNN = recall_score(y_test, y_pred, average='macro')\n",
        "    f1_KNN = f1_score(y_test, y_pred, average='macro')\n",
        "\n",
        "    print(\"Accuracy:\", accuracy_KNN)\n",
        "    print(\"Precision:\", precision_KNN)\n",
        "    print(\"Recall:\", recall_KNN)\n",
        "    print(\"F1-Score:\", f1_KNN)\n",
        "\n",
        "    return accuracy_KNN, precision_KNN, recall_KNN, f1_KNN"
      ]
    },
    {
      "cell_type": "code",
      "execution_count": null,
      "id": "11757767-99be-4910-8463-d06275976308",
      "metadata": {
        "colab": {
          "base_uri": "https://localhost:8080/"
        },
        "id": "11757767-99be-4910-8463-d06275976308",
        "outputId": "dfd6bbfb-7c05-46e8-9e26-1b02eceb5b26"
      },
      "outputs": [
        {
          "output_type": "stream",
          "name": "stdout",
          "text": [
            "Accuracy: 0.661062906724512\n",
            "Precision: 0.6401408088802096\n",
            "Recall: 0.5854216263626112\n",
            "F1-Score: 0.5746879353451855\n"
          ]
        }
      ],
      "source": [
        "# Before SMOTE balancing\n",
        "accuracy_KNN1, precision_KNN1, recall_KNN1, f1_KNN1 = logistic_regression(X, y)"
      ]
    },
    {
      "cell_type": "code",
      "execution_count": null,
      "id": "914ea046-8922-445a-b733-1ea206118bd4",
      "metadata": {
        "colab": {
          "base_uri": "https://localhost:8080/"
        },
        "id": "914ea046-8922-445a-b733-1ea206118bd4",
        "outputId": "e15fa065-fee8-4db7-aec3-a0f4327e632f"
      },
      "outputs": [
        {
          "output_type": "stream",
          "name": "stdout",
          "text": [
            "Accuracy: 0.6873643074250977\n",
            "Precision: 0.6871319786219043\n",
            "Recall: 0.6869836878180136\n",
            "F1-Score: 0.6870323869461687\n"
          ]
        }
      ],
      "source": [
        "# After SMOTE balancing\n",
        "accuracy_KNN2, precision_KNN2, recall_KNN2, f1_KNN2 = logistic_regression(X_resampled, y_resampled)"
      ]
    },
    {
      "cell_type": "markdown",
      "id": "ad5b746b-0eee-4aff-95d6-b7d32f3e3cbf",
      "metadata": {
        "id": "ad5b746b-0eee-4aff-95d6-b7d32f3e3cbf"
      },
      "source": [
        "=> K-Nearest Neighbors model's performance is better after SMOTE sampling."
      ]
    },
    {
      "cell_type": "markdown",
      "id": "6fd27e15-be7d-4968-b9ed-a254569e9898",
      "metadata": {
        "id": "6fd27e15-be7d-4968-b9ed-a254569e9898"
      },
      "source": [
        "### Artificial Neural Network"
      ]
    },
    {
      "cell_type": "markdown",
      "id": "b86e1a2b-a538-4c28-a463-d4e3e95a8dd0",
      "metadata": {
        "id": "b86e1a2b-a538-4c28-a463-d4e3e95a8dd0"
      },
      "source": [
        "#### Before SMOTE databalancing"
      ]
    },
    {
      "cell_type": "code",
      "execution_count": null,
      "id": "e9f9f1a2-55d0-4173-a75a-05b940fc5f4f",
      "metadata": {
        "colab": {
          "base_uri": "https://localhost:8080/"
        },
        "id": "e9f9f1a2-55d0-4173-a75a-05b940fc5f4f",
        "outputId": "386111fb-6bf6-40cf-cbd1-1a9e230f9b51"
      },
      "outputs": [
        {
          "output_type": "stream",
          "name": "stdout",
          "text": [
            "\u001b[1m58/58\u001b[0m \u001b[32m━━━━━━━━━━━━━━━━━━━━\u001b[0m\u001b[37m\u001b[0m \u001b[1m1s\u001b[0m 8ms/step\n",
            "Accuracy: 0.7055\n",
            "Precision: 0.7230\n",
            "Recall: 0.8557\n",
            "F1 Score: 0.7838\n"
          ]
        }
      ],
      "source": [
        "# Splitting the dataset into features and target\n",
        "X = df.drop(columns=['Success'])\n",
        "y = df['Success']\n",
        "\n",
        "# Split the dataset into training and testing sets\n",
        "X_train, X_test, y_train, y_test = train_test_split(X, y, test_size=0.2, random_state=0)\n",
        "\n",
        "# Scale the features (this is important for ANN models)\n",
        "scaler = StandardScaler()\n",
        "X_train = scaler.fit_transform(X_train)\n",
        "X_test = scaler.transform(X_test)\n",
        "\n",
        "# Build the ANN model\n",
        "model = Sequential()\n",
        "\n",
        "# Use the Input layer to specify the input shape\n",
        "model.add(Input(shape=(X_train.shape[1],)))\n",
        "\n",
        "# Hidden layers\n",
        "model.add(Dense(32, activation='relu'))\n",
        "model.add(Dense(16, activation='relu'))\n",
        "model.add(Dense(8, activation='relu'))\n",
        "\n",
        "# Output layer (1 neuron since it's binary classification)\n",
        "model.add(Dense(1, activation='sigmoid'))\n",
        "\n",
        "# Compile the model\n",
        "model.compile(optimizer='adam', loss='binary_crossentropy', metrics=['accuracy'])\n",
        "\n",
        "# Train the model\n",
        "model.fit(X_train, y_train, epochs=50, batch_size=32, verbose=0)\n",
        "\n",
        "# Predict on test data\n",
        "y_pred_prob = model.predict(X_test)\n",
        "y_pred = np.where(y_pred_prob > 0.5, 1, 0)\n",
        "\n",
        "# Calculate metrics\n",
        "accuracy = accuracy_score(y_test, y_pred)\n",
        "precision = precision_score(y_test, y_pred)\n",
        "recall = recall_score(y_test, y_pred)\n",
        "f1 = f1_score(y_test, y_pred)\n",
        "\n",
        "# Print metrics\n",
        "print(f'Accuracy: {accuracy:.4f}')\n",
        "print(f'Precision: {precision:.4f}')\n",
        "print(f'Recall: {recall:.4f}')\n",
        "print(f'F1 Score: {f1:.4f}')"
      ]
    },
    {
      "cell_type": "markdown",
      "id": "01cbdeb9-a12f-4c84-91dc-4a24ac6a2c78",
      "metadata": {
        "id": "01cbdeb9-a12f-4c84-91dc-4a24ac6a2c78"
      },
      "source": [
        "#### After SMOTE balancing"
      ]
    },
    {
      "cell_type": "code",
      "execution_count": null,
      "id": "cf985e3b-48da-477f-9fd1-78146ba5d438",
      "metadata": {
        "colab": {
          "base_uri": "https://localhost:8080/"
        },
        "id": "cf985e3b-48da-477f-9fd1-78146ba5d438",
        "outputId": "bdec5b5b-3def-4485-f0d0-e83d407238fb"
      },
      "outputs": [
        {
          "output_type": "stream",
          "name": "stdout",
          "text": [
            "\u001b[1m72/72\u001b[0m \u001b[32m━━━━━━━━━━━━━━━━━━━━\u001b[0m\u001b[37m\u001b[0m \u001b[1m1s\u001b[0m 6ms/step\n",
            "Accuracy: 0.7273\n",
            "Precision: 0.6895\n",
            "Recall: 0.8528\n",
            "F1 Score: 0.7625\n"
          ]
        }
      ],
      "source": [
        "# Split the resampled dataset into training and testing sets\n",
        "X_train, X_test, y_train, y_test = train_test_split(X_resampled, y_resampled, test_size=0.2, random_state=0)\n",
        "\n",
        "# Scale the features (this is important for ANN models)\n",
        "scaler = StandardScaler()\n",
        "X_train = scaler.fit_transform(X_train)\n",
        "X_test = scaler.transform(X_test)\n",
        "\n",
        "# Build the ANN model2\n",
        "model2 = Sequential()\n",
        "\n",
        "# Use the Input layer to specify the input shape\n",
        "model2.add(Input(shape=(X_train.shape[1],)))\n",
        "\n",
        "# Hidden layers\n",
        "model2.add(Dense(32, activation='relu'))\n",
        "model2.add(Dense(16, activation='relu'))\n",
        "model2.add(Dense(8, activation='relu'))\n",
        "\n",
        "# Output layer (1 neuron since it's binary classification)\n",
        "model2.add(Dense(1, activation='sigmoid'))\n",
        "\n",
        "# Compile the model2\n",
        "model2.compile(optimizer='adam', loss='binary_crossentropy', metrics=['accuracy'])\n",
        "\n",
        "# Train the model2\n",
        "model2.fit(X_train, y_train, epochs=50, batch_size=32, verbose=0)\n",
        "\n",
        "# Predict on test data\n",
        "y_pred_prob = model2.predict(X_test)\n",
        "y_pred = np.where(y_pred_prob > 0.5, 1, 0)\n",
        "\n",
        "# Calculate metrics\n",
        "accuracy_ann = accuracy_score(y_test, y_pred)\n",
        "precision_ann = precision_score(y_test, y_pred)\n",
        "recall_ann = recall_score(y_test, y_pred)\n",
        "f1_ann = f1_score(y_test, y_pred)\n",
        "\n",
        "# Print metrics\n",
        "print(f'Accuracy: {accuracy_ann:.4f}')\n",
        "print(f'Precision: {precision_ann:.4f}')\n",
        "print(f'Recall: {recall_ann:.4f}')\n",
        "print(f'F1 Score: {f1_ann:.4f}')"
      ]
    },
    {
      "cell_type": "markdown",
      "id": "fc204432-ca1a-405b-8f3e-873622be5071",
      "metadata": {
        "id": "fc204432-ca1a-405b-8f3e-873622be5071"
      },
      "source": [
        "=> Artificial Neural Network model's performance is better after SMOTE sampling."
      ]
    },
    {
      "cell_type": "markdown",
      "id": "736d1a83-d789-40f4-94fb-5df6be0ab35b",
      "metadata": {
        "id": "736d1a83-d789-40f4-94fb-5df6be0ab35b"
      },
      "source": [
        "### Compare models to choose the best one"
      ]
    },
    {
      "cell_type": "code",
      "execution_count": null,
      "id": "71c05ffb-3ab8-4426-8f9e-5f78b85313ba",
      "metadata": {
        "colab": {
          "base_uri": "https://localhost:8080/",
          "height": 860
        },
        "id": "71c05ffb-3ab8-4426-8f9e-5f78b85313ba",
        "outputId": "2a0ef90f-d9fe-4da0-81c1-c83b4ff73b15"
      },
      "outputs": [
        {
          "output_type": "display_data",
          "data": {
            "text/plain": [
              "<Figure size 1200x900 with 1 Axes>"
            ],
            "image/png": "[encoded data removed]"
          },
          "metadata": {}
        },
        {
          "output_type": "stream",
          "name": "stdout",
          "text": [
            "NB = Naive Bayes; LR = Logistic Regression; DT = Decision Tree; RF = Random Forest; K-NN = K-Nearest Neighbors; ANN: Aritificial Neural Network\n"
          ]
        }
      ],
      "source": [
        "# Labels for the groups\n",
        "labels = ['NB', 'LR', 'DT', 'RF', 'K-NN', 'ANN']\n",
        "\n",
        "# The data for each group\n",
        "accuracy = [accuracy_NB2, accuracy_LR2, accuracy_DT2, accuracy_RF_smote, accuracy_KNN2, accuracy_ann]\n",
        "precision = [precision_NB2, precision_LR2, precision_DT2, precision_RF_smote, precision_KNN2, precision_ann]\n",
        "recall = [recall_NB2, recall_LR2, recall_DT2, recall_RF_smote, recall_KNN2, recall_ann]\n",
        "f1_score = [f1_NB2, f1_LR2, f1_DT2, f1_RF_smote, f1_KNN2, f1_ann]\n",
        "\n",
        "x = np.arange(len(labels))  # the label locations\n",
        "width = 0.2  # the width of the bars\n",
        "\n",
        "# Plotting the bars with customized colors\n",
        "fig, ax = plt.subplots(figsize=(12, 9))\n",
        "rects1 = ax.bar(x - 1.5*width, accuracy, width, label='Accuracy', color='#3498db')  # Blue\n",
        "rects2 = ax.bar(x - 0.5*width, precision, width, label='Precision', color='#e74c3c')  # Red\n",
        "rects3 = ax.bar(x + 0.5*width, recall, width, label='Recall', color='#2ecc71')  # Green\n",
        "rects4 = ax.bar(x + 1.5*width, f1_score, width, label='F1 Score', color='#f39c12')  # Orange\n",
        "\n",
        "# Add some text for labels, title, and custom x-axis tick labels, etc.\n",
        "ax.set_ylabel('Scores')\n",
        "ax.set_title('Comparison of Model Performance')\n",
        "ax.set_xticks(x)\n",
        "ax.set_xticklabels(labels)\n",
        "ax.legend(loc='upper left')\n",
        "\n",
        "# Function to add labels on top of the bars\n",
        "def autolabel(rects):\n",
        "    \"\"\"Attach a text label above each bar in *rects*, displaying its height.\"\"\"\n",
        "    for rect in rects:\n",
        "        height = rect.get_height()\n",
        "        ax.annotate('{}'.format(round(height, 2)),\n",
        "                    xy=(rect.get_x() + rect.get_width() / 2, height),\n",
        "                    xytext=(0, 3),  # 3 points vertical offset\n",
        "                    textcoords=\"offset points\",\n",
        "                    ha='center', va='bottom')\n",
        "\n",
        "autolabel(rects1)\n",
        "autolabel(rects2)\n",
        "autolabel(rects3)\n",
        "autolabel(rects4)\n",
        "\n",
        "fig.tight_layout()\n",
        "\n",
        "plt.show()\n",
        "\n",
        "print('NB = Naive Bayes; LR = Logistic Regression; DT = Decision Tree; RF = Random Forest; K-NN = K-Nearest Neighbors; ANN: Aritificial Neural Network')"
      ]
    },
    {
      "cell_type": "markdown",
      "id": "6bcac2c6-e49d-4f96-a8a2-44c36ded27df",
      "metadata": {
        "id": "6bcac2c6-e49d-4f96-a8a2-44c36ded27df"
      },
      "source": [
        "."
      ]
    },
    {
      "cell_type": "markdown",
      "id": "7fe6b0df-fc7b-4370-89b1-7fc0d10d798e",
      "metadata": {
        "id": "7fe6b0df-fc7b-4370-89b1-7fc0d10d798e"
      },
      "source": [
        "=> Random Forest has the best performance compared to other models."
      ]
    },
    {
      "cell_type": "markdown",
      "id": "bcfc831e-cf15-4762-aee2-1ef3782d4f84",
      "metadata": {
        "id": "bcfc831e-cf15-4762-aee2-1ef3782d4f84"
      },
      "source": [
        "Conclusion: Choose Random Forest (RF) over ANN because:\n",
        "- Higher accuracy: RF outperforms ANN in terms of accuracy (74% vs. 73%), which is the primary metric in this case.\n",
        "- Better generalization: RF tends to generalize better without the risk of overfitting as much as ANN.\n",
        "- Easier tuning and faster computation: RF requires less tuning and is faster to train and evaluate, making it more practical.\n",
        "- More interpretable: RF provides feature importance scores, offering better insights into the model's decision-making process compared to ANN."
      ]
    },
    {
      "cell_type": "markdown",
      "id": "ea4ea234-4ccd-4bf1-ad89-24b9e8044b97",
      "metadata": {
        "id": "ea4ea234-4ccd-4bf1-ad89-24b9e8044b97"
      },
      "source": [
        "### Feature Selection based on feature importance"
      ]
    },
    {
      "cell_type": "code",
      "execution_count": null,
      "id": "31d659ab-4902-4d95-a670-8aea69f32a93",
      "metadata": {
        "colab": {
          "base_uri": "https://localhost:8080/"
        },
        "id": "31d659ab-4902-4d95-a670-8aea69f32a93",
        "outputId": "d7a53565-e02d-4296-e61a-b76248fdf272"
      },
      "outputs": [
        {
          "output_type": "stream",
          "name": "stdout",
          "text": [
            "Accuracy: 0.7420755536257057\n",
            "Precision: 0.7419250558168904\n",
            "Recall: 0.7417333448048409\n",
            "F1-Score: 0.7418017192305892\n"
          ]
        }
      ],
      "source": [
        "from sklearn.metrics import accuracy_score, precision_score, recall_score, f1_score\n",
        "\n",
        "# Assuming X_resampled and y_resampled are already defined after applying SMOTE\n",
        "\n",
        "# Split the resampled data into train and test sets\n",
        "X_train, X_test, y_train, y_test = train_test_split(X_resampled, y_resampled, test_size=0.2, random_state=0)\n",
        "\n",
        "# Initialize the Random Forest model\n",
        "rfc_smote = RandomForestClassifier(random_state=0)\n",
        "\n",
        "# Apply 5-fold cross-validation\n",
        "cv_results = cross_validate(rfc_smote, X_train, y_train, cv=5,\n",
        "                            scoring=('accuracy', 'precision_macro', 'recall_macro', 'f1_macro'))\n",
        "\n",
        "# Train the model on the full training data\n",
        "rfc_smote.fit(X_train, y_train)\n",
        "\n",
        "# Predict on the test set\n",
        "y_pred = rfc_smote.predict(X_test)\n",
        "\n",
        "# Calculate evaluation metrics\n",
        "accuracy_RF_smote = accuracy_score(y_test, y_pred)\n",
        "precision_RF_smote = precision_score(y_test, y_pred, average='macro')\n",
        "recall_RF_smote = recall_score(y_test, y_pred, average='macro')\n",
        "f1_RF_smote = f1_score(y_test, y_pred, average='macro')\n",
        "\n",
        "# Print evaluation results\n",
        "print(\"Accuracy:\", accuracy_RF_smote)\n",
        "print(\"Precision:\", precision_RF_smote)\n",
        "print(\"Recall:\", recall_RF_smote)\n",
        "print(\"F1-Score:\", f1_RF_smote)"
      ]
    },
    {
      "cell_type": "code",
      "execution_count": null,
      "id": "821a7363-01d5-4e82-8f69-d1ebe64103de",
      "metadata": {
        "colab": {
          "base_uri": "https://localhost:8080/",
          "height": 1000
        },
        "id": "821a7363-01d5-4e82-8f69-d1ebe64103de",
        "outputId": "ed024ff4-21d8-4f7c-eda0-addcb74af2eb"
      },
      "outputs": [
        {
          "output_type": "display_data",
          "data": {
            "text/plain": [
              "<Figure size 1000x1800 with 1 Axes>"
            ],
            "image/png": "[encoded data removed]"
          },
          "metadata": {}
        }
      ],
      "source": [
        "# Get feature importance\n",
        "feature_importances = rfc_smote.feature_importances_\n",
        "\n",
        "# Get feature names\n",
        "feature_names = X.columns.tolist()\n",
        "\n",
        "# Sort the features by importance\n",
        "sorted_idx = np.argsort(feature_importances)[::-1]\n",
        "sorted_feature_importances = feature_importances[sorted_idx]\n",
        "sorted_feature_names = [feature_names[index] for index in sorted_idx]\n",
        "\n",
        "# Generate a color palette with enough colors\n",
        "colors = sns.color_palette(\"hsv\", len(sorted_feature_names))\n",
        "\n",
        "# Plotting\n",
        "plt.figure(figsize=(10, 18))\n",
        "bars = plt.barh(range(len(sorted_feature_names)), sorted_feature_importances, color=colors, align='center')\n",
        "\n",
        "# Add labels to the bars\n",
        "for bar, value in zip(bars, sorted_feature_importances):\n",
        "    plt.text(bar.get_width(), bar.get_y() + bar.get_height() / 2,\n",
        "             '{:.2f}'.format(value),  # Format the value to 2 decimal places\n",
        "             va='center', ha='left')\n",
        "\n",
        "plt.yticks(range(len(sorted_feature_names)), sorted_feature_names)\n",
        "plt.xlabel('Feature Importance')\n",
        "plt.title('Feature Importance Ranked by Random Forest')\n",
        "plt.gca().invert_yaxis()  # Invert the y-axis to have the most important feature at the top\n",
        "\n",
        "plt.show()"
      ]
    },
    {
      "cell_type": "code",
      "execution_count": null,
      "id": "c29bfae3-63bc-4613-b80a-09b1dea4fc5b",
      "metadata": {
        "colab": {
          "base_uri": "https://localhost:8080/"
        },
        "id": "c29bfae3-63bc-4613-b80a-09b1dea4fc5b",
        "outputId": "3862520f-ec5a-4bdc-f33b-ce84bc9ce94f"
      },
      "outputs": [
        {
          "output_type": "stream",
          "name": "stdout",
          "text": [
            "NumberOfApplicants\n",
            "Salary\n",
            "Department\n",
            "ClassificationLevel\n",
            "VacancyType\n",
            "Region\n",
            "NumberOfVacancies\n",
            "Remoteness\n",
            "Vacancy6MonthsOrLess\n",
            "Administration and Business Services\n",
            "Flexibility\n",
            "Allied Health and Health Care Services\n",
            "Education and Training\n",
            "Nursing and Midwifery\n",
            "Professional\n",
            "Accounting and Finance\n",
            "Information and Communication Technology (ICT)\n",
            "Environment\n",
            "Medical\n",
            "Community Services\n",
            "Child Protection\n",
            "Program and Project Management\n",
            "Trades\n",
            "Communication\n",
            "Aged and Disability Care\n",
            "Human Resources and Work Health Safety\n",
            "Information and Records Management\n",
            "Executive and Senior Management\n",
            "Procurement\n",
            "Legal\n",
            "Agriculture\n",
            "Tourism and Culture\n",
            "Engineering\n",
            "Prison Services\n",
            "Construction\n",
            "Police\n",
            "Social Work\n",
            "Hospitality and Food Services\n",
            "Probation and Parole Officer\n",
            "Transport and Logistics\n",
            "Primary Industry\n",
            "Housekeeping Services\n",
            "Science\n",
            "Payroll\n",
            "Sport and Recreation\n",
            "Traineeship\n",
            "Vacation Employment\n",
            "Fire and Emergency Workers\n",
            "Maintenance and Services\n",
            "Natural Resources and Conservation\n",
            "Media and Public Relations\n",
            "Architecture and Design\n",
            "Animal and Horticulture\n",
            "Grants and Contract Management\n",
            "Cadetship and Graduate Programs\n"
          ]
        }
      ],
      "source": [
        "# Get feature importance\n",
        "feature_importances = rfc_smote.feature_importances_\n",
        "\n",
        "# Get feature names\n",
        "feature_names = X.columns.tolist()\n",
        "\n",
        "# Sort the features by importance\n",
        "sorted_idx = np.argsort(feature_importances)[::-1]\n",
        "sorted_feature_names = [feature_names[index] for index in sorted_idx]\n",
        "\n",
        "# Print sorted feature names\n",
        "for feature in sorted_feature_names:\n",
        "    print(feature)"
      ]
    },
    {
      "cell_type": "markdown",
      "id": "464257c9-a190-4587-9bab-072319ddb8cf",
      "metadata": {
        "id": "464257c9-a190-4587-9bab-072319ddb8cf"
      },
      "source": [
        "#### Feature Selection"
      ]
    },
    {
      "cell_type": "markdown",
      "id": "163c495d-761e-4b7d-801d-c43c71ea177c",
      "metadata": {
        "id": "163c495d-761e-4b7d-801d-c43c71ea177c"
      },
      "source": [
        "##### Apply forward feature selection technique"
      ]
    },
    {
      "cell_type": "code",
      "execution_count": null,
      "id": "d999ea91-75e3-4f87-a9fd-8e96c848269f",
      "metadata": {
        "colab": {
          "base_uri": "https://localhost:8080/",
          "height": 1000
        },
        "id": "d999ea91-75e3-4f87-a9fd-8e96c848269f",
        "outputId": "21ec2ae8-be37-48d7-d380-1d323dc20828"
      },
      "outputs": [
        {
          "output_type": "stream",
          "name": "stdout",
          "text": [
            "Number of features: 1, Accuracy: 0.6617\n",
            "Number of features: 2, Accuracy: 0.6691\n",
            "Number of features: 3, Accuracy: 0.6856\n",
            "Number of features: 4, Accuracy: 0.6947\n",
            "Number of features: 5, Accuracy: 0.7130\n",
            "Number of features: 6, Accuracy: 0.7277\n",
            "Number of features: 7, Accuracy: 0.7360\n",
            "Number of features: 8, Accuracy: 0.7425\n",
            "Number of features: 9, Accuracy: 0.7434\n",
            "Number of features: 10, Accuracy: 0.7390\n",
            "Number of features: 11, Accuracy: 0.7360\n",
            "Number of features: 12, Accuracy: 0.7399\n",
            "Number of features: 13, Accuracy: 0.7290\n",
            "Number of features: 14, Accuracy: 0.7330\n",
            "Number of features: 15, Accuracy: 0.7347\n",
            "Number of features: 16, Accuracy: 0.7403\n",
            "Number of features: 17, Accuracy: 0.7351\n",
            "Number of features: 18, Accuracy: 0.7304\n",
            "Number of features: 19, Accuracy: 0.7377\n",
            "Number of features: 20, Accuracy: 0.7347\n",
            "Number of features: 21, Accuracy: 0.7334\n",
            "Number of features: 22, Accuracy: 0.7312\n",
            "Number of features: 23, Accuracy: 0.7351\n",
            "Number of features: 24, Accuracy: 0.7395\n",
            "Number of features: 25, Accuracy: 0.7408\n",
            "Number of features: 26, Accuracy: 0.7412\n",
            "Number of features: 27, Accuracy: 0.7425\n",
            "Number of features: 28, Accuracy: 0.7356\n",
            "Number of features: 29, Accuracy: 0.7399\n",
            "Number of features: 30, Accuracy: 0.7399\n",
            "Number of features: 31, Accuracy: 0.7516\n",
            "Number of features: 32, Accuracy: 0.7451\n",
            "Number of features: 33, Accuracy: 0.7412\n",
            "Number of features: 34, Accuracy: 0.7438\n",
            "Number of features: 35, Accuracy: 0.7386\n",
            "Number of features: 36, Accuracy: 0.7447\n",
            "Number of features: 37, Accuracy: 0.7403\n",
            "Number of features: 38, Accuracy: 0.7421\n",
            "Number of features: 39, Accuracy: 0.7425\n",
            "Number of features: 40, Accuracy: 0.7412\n",
            "Number of features: 41, Accuracy: 0.7416\n",
            "Number of features: 42, Accuracy: 0.7416\n",
            "Number of features: 43, Accuracy: 0.7421\n",
            "Number of features: 44, Accuracy: 0.7408\n",
            "Number of features: 45, Accuracy: 0.7434\n",
            "Number of features: 46, Accuracy: 0.7386\n",
            "Number of features: 47, Accuracy: 0.7390\n",
            "Number of features: 48, Accuracy: 0.7412\n",
            "Number of features: 49, Accuracy: 0.7451\n",
            "Number of features: 50, Accuracy: 0.7438\n",
            "Number of features: 51, Accuracy: 0.7364\n",
            "Number of features: 52, Accuracy: 0.7351\n",
            "Number of features: 53, Accuracy: 0.7460\n",
            "Number of features: 54, Accuracy: 0.7360\n",
            "Number of features: 55, Accuracy: 0.7373\n"
          ]
        },
        {
          "output_type": "display_data",
          "data": {
            "text/plain": [
              "<Figure size 1000x600 with 1 Axes>"
            ],
            "image/png": "[encoded data removed]"
          },
          "metadata": {}
        }
      ],
      "source": [
        "import matplotlib.pyplot as plt\n",
        "from sklearn.ensemble import RandomForestClassifier\n",
        "from sklearn.model_selection import train_test_split\n",
        "from sklearn.metrics import accuracy_score\n",
        "import numpy as np\n",
        "\n",
        "# List of features in the order provided\n",
        "feature_order = [\n",
        "    'NumberOfApplicants', 'Salary', 'Department', 'VacancyType', 'ClassificationLevel', 'Region',\n",
        "    'NumberOfVacancies', 'Remoteness', 'Vacancy6MonthsOrLess', 'Administration and Business Services',\n",
        "    'Flexibility', 'Education and Training', 'Allied Health and Health Care Services',\n",
        "    'Nursing and Midwifery', 'Accounting and Finance', 'Professional',\n",
        "    'Information and Communication Technology (ICT)', 'Environment', 'Child Protection',\n",
        "    'Community Services', 'Program and Project Management', 'Medical', 'Legal',\n",
        "    'Human Resources and Work Health Safety', 'Trades', 'Aged and Disability Care', 'Communication',\n",
        "    'Procurement', 'Agriculture', 'Executive and Senior Management',\n",
        "    'Information and Records Management', 'Engineering', 'Tourism and Culture',\n",
        "    'Prison Services', 'Construction', 'Police', 'Probation and Parole Officer',\n",
        "    'Hospitality and Food Services', 'Transport and Logistics', 'Social Work',\n",
        "    'Primary Industry', 'Housekeeping Services', 'Science', 'Payroll', 'Sport and Recreation',\n",
        "    'Traineeship', 'Vacation Employment', 'Fire and Emergency Workers',\n",
        "    'Grants and Contract Management', 'Maintenance and Services', 'Media and Public Relations',\n",
        "    'Architecture and Design', 'Animal and Horticulture', 'Natural Resources and Conservation',\n",
        "    'Cadetship and Graduate Programs'\n",
        "]\n",
        "\n",
        "# Assuming X_resampled is a DataFrame with all the features and y_resampled is the target\n",
        "# Prepare to collect accuracy scores as features are added\n",
        "accuracies = []\n",
        "num_features = []\n",
        "\n",
        "# Split the resampled data into train and test sets\n",
        "X_train, X_test, y_train, y_test = train_test_split(X_resampled, y_resampled, test_size=0.2, random_state=0)\n",
        "\n",
        "# Perform forward feature selection\n",
        "selected_features = []\n",
        "for i, feature in enumerate(feature_order):\n",
        "    selected_features.append(feature)\n",
        "\n",
        "    # Create a subset of the data with the selected features\n",
        "    X_train_subset = X_train[selected_features]\n",
        "    X_test_subset = X_test[selected_features]\n",
        "\n",
        "    # Initialize and train the Random Forest model\n",
        "    rfc_smote = RandomForestClassifier(random_state=0)\n",
        "    rfc_smote.fit(X_train_subset, y_train)\n",
        "\n",
        "    # Predict on the test set\n",
        "    y_pred = rfc_smote.predict(X_test_subset)\n",
        "\n",
        "    # Calculate accuracy\n",
        "    accuracy = accuracy_score(y_test, y_pred)\n",
        "    accuracies.append(accuracy)\n",
        "    num_features.append(len(selected_features))\n",
        "\n",
        "    # Print progress\n",
        "    print(f\"Number of features: {len(selected_features)}, Accuracy: {accuracy:.4f}\")\n",
        "\n",
        "# Plotting the accuracy vs number of features\n",
        "plt.figure(figsize=(10, 6))\n",
        "plt.plot(num_features, accuracies, marker='o', linestyle='-', color='b')\n",
        "plt.xlabel('Number of Features')\n",
        "plt.ylabel('Accuracy')\n",
        "plt.title('Accuracy vs Number of Features (Forward Feature Selection)')\n",
        "plt.grid(True)\n",
        "plt.show()"
      ]
    },
    {
      "cell_type": "markdown",
      "id": "1b8d5e6d-09e0-4917-8671-dce8223b43fb",
      "metadata": {
        "id": "1b8d5e6d-09e0-4917-8671-dce8223b43fb"
      },
      "source": [
        "=> It can be seen that the model with 8 features has a high accuracy 74.08%. The model's performance is not improved much if there are more predictors."
      ]
    },
    {
      "cell_type": "code",
      "execution_count": null,
      "id": "7237132a-3429-4895-a2a3-ad78e2679373",
      "metadata": {
        "colab": {
          "base_uri": "https://localhost:8080/"
        },
        "id": "7237132a-3429-4895-a2a3-ad78e2679373",
        "outputId": "2b53fe74-f487-484a-d8f7-6a0ac997bf1d"
      },
      "outputs": [
        {
          "output_type": "stream",
          "name": "stdout",
          "text": [
            "Selected Features (First 8):\n",
            "NumberOfApplicants\n",
            "Salary\n",
            "Department\n",
            "VacancyType\n",
            "ClassificationLevel\n",
            "Region\n",
            "NumberOfVacancies\n",
            "Remoteness\n",
            "\n",
            "Evaluation Metrics for Model with 8 Most Significant Features:\n",
            "Accuracy: 0.7425\n",
            "Precision: 0.7423\n",
            "Recall: 0.7423\n",
            "F1-Score: 0.7423\n"
          ]
        }
      ],
      "source": [
        "# Select the first 8 features based on the forward selection results\n",
        "selected_8_features = feature_order[:8]\n",
        "\n",
        "# Print the selected 8 features\n",
        "print(\"Selected Features (First 8):\")\n",
        "for feature in selected_8_features:\n",
        "    print(feature)\n",
        "\n",
        "# Create a subset of the data with the selected 8 features\n",
        "X_train_subset = X_train[selected_8_features]\n",
        "X_test_subset = X_test[selected_8_features]\n",
        "\n",
        "# Initialize and train the Random Forest model\n",
        "rfc_smote = RandomForestClassifier(random_state=0)\n",
        "rfc_smote.fit(X_train_subset, y_train)\n",
        "\n",
        "# Predict on the test set\n",
        "y_pred = rfc_smote.predict(X_test_subset)\n",
        "\n",
        "# Calculate and print evaluation metrics\n",
        "accuracy = accuracy_score(y_test, y_pred)\n",
        "precision = precision_score(y_test, y_pred, average='macro')\n",
        "recall = recall_score(y_test, y_pred, average='macro')\n",
        "f1 = f1_score(y_test, y_pred, average='macro')\n",
        "\n",
        "print(\"\\nEvaluation Metrics for Model with 8 Most Significant Features:\")\n",
        "print(f\"Accuracy: {accuracy:.4f}\")\n",
        "print(f\"Precision: {precision:.4f}\")\n",
        "print(f\"Recall: {recall:.4f}\")\n",
        "print(f\"F1-Score: {f1:.4f}\")"
      ]
    },
    {
      "cell_type": "markdown",
      "id": "00157dba-7d96-4de7-88c2-e647639ee92e",
      "metadata": {
        "id": "00157dba-7d96-4de7-88c2-e647639ee92e"
      },
      "source": [
        "=> The best random forest model has the accuracy of 74.08% with 8 predictors:\n",
        "NumberOfApplicants, Salary, Department, VacancyType, ClassificationLevel, Region, NumberOfVacancies, Remoteness"
      ]
    },
    {
      "cell_type": "markdown",
      "id": "c0eeda05-4b8f-4a5d-a974-495be6fd18ea",
      "metadata": {
        "id": "c0eeda05-4b8f-4a5d-a974-495be6fd18ea"
      },
      "source": [
        "#### Confusion Matrix"
      ]
    },
    {
      "cell_type": "code",
      "execution_count": null,
      "id": "2588c4bb-f4b4-4971-87df-69374f7844a4",
      "metadata": {
        "colab": {
          "base_uri": "https://localhost:8080/",
          "height": 564
        },
        "id": "2588c4bb-f4b4-4971-87df-69374f7844a4",
        "outputId": "b84f20b1-b71c-4db2-a301-1e65bd7b188b"
      },
      "outputs": [
        {
          "output_type": "display_data",
          "data": {
            "text/plain": [
              "<Figure size 800x600 with 1 Axes>"
            ],
            "image/png": "[encoded data removed]"
          },
          "metadata": {}
        }
      ],
      "source": [
        "# Generate the confusion matrix\n",
        "conf_matrix = confusion_matrix(y_test, y_pred)\n",
        "\n",
        "# Visualize the confusion matrix\n",
        "plt.figure(figsize=(8, 6))\n",
        "sns.heatmap(conf_matrix, annot=True, fmt='d', cmap='Blues', cbar=False,\n",
        "            xticklabels=['No', 'Yes'],\n",
        "            yticklabels=['No', 'Yes'])\n",
        "plt.xlabel('Predicted Label')\n",
        "plt.ylabel('True Label')\n",
        "plt.title('Confusion Matrix')\n",
        "plt.show()"
      ]
    },
    {
      "cell_type": "markdown",
      "id": "c67d2846-c2af-485b-8de9-eaf20a057fe4",
      "metadata": {
        "id": "c67d2846-c2af-485b-8de9-eaf20a057fe4"
      },
      "source": [
        "#### Model Optimisation: Hyper-parameters Tuning"
      ]
    },
    {
      "cell_type": "markdown",
      "id": "24fea9e2-45ca-409d-bf0d-f077d38df26d",
      "metadata": {
        "id": "24fea9e2-45ca-409d-bf0d-f077d38df26d"
      },
      "source": [
        "##### Random Search"
      ]
    },
    {
      "cell_type": "code",
      "execution_count": null,
      "id": "6d0394fc-ca44-4a2f-b00b-931ebe929fc4",
      "metadata": {
        "colab": {
          "base_uri": "https://localhost:8080/"
        },
        "id": "6d0394fc-ca44-4a2f-b00b-931ebe929fc4",
        "outputId": "8604a479-1a4d-4efa-ecb3-2061dfad2cbd"
      },
      "outputs": [
        {
          "output_type": "stream",
          "name": "stdout",
          "text": [
            "Fitting 5 folds for each of 200 candidates, totalling 1000 fits\n"
          ]
        },
        {
          "output_type": "stream",
          "name": "stderr",
          "text": [
            "/usr/local/lib/python3.10/dist-packages/joblib/externals/loky/backend/fork_exec.py:38: RuntimeWarning: os.fork() was called. os.fork() is incompatible with multithreaded code, and JAX is multithreaded, so this will likely lead to a deadlock.\n",
            "  pid = os.fork()\n",
            "/usr/local/lib/python3.10/dist-packages/joblib/externals/loky/backend/fork_exec.py:38: RuntimeWarning: os.fork() was called. os.fork() is incompatible with multithreaded code, and JAX is multithreaded, so this will likely lead to a deadlock.\n",
            "  pid = os.fork()\n"
          ]
        },
        {
          "output_type": "stream",
          "name": "stdout",
          "text": [
            "              precision    recall  f1-score   support\n",
            "\n",
            "           0       0.78      0.69      0.73      1121\n",
            "           1       0.73      0.82      0.77      1182\n",
            "\n",
            "    accuracy                           0.75      2303\n",
            "   macro avg       0.76      0.75      0.75      2303\n",
            "weighted avg       0.76      0.75      0.75      2303\n",
            "\n",
            "Best parameters: {'n_estimators': 500, 'min_samples_split': 10, 'min_samples_leaf': 1, 'max_depth': None} with score: 0.7547\n",
            "Time taken for RandomizedSearchCV: 228.08 seconds\n"
          ]
        }
      ],
      "source": [
        "# Define the parameter grid\n",
        "param_grid = {\n",
        "    'n_estimators': [100, 200, 300, 400, 500],\n",
        "    'max_depth': [None, 10, 20, 30, 40, 50],\n",
        "    'min_samples_split': [2, 5, 10, 15, 20],\n",
        "    'min_samples_leaf': [1, 2, 4, 6, 8],\n",
        "}\n",
        "\n",
        "# Initialize RandomizedSearchCV\n",
        "random_search = RandomizedSearchCV(\n",
        "    estimator=rfc_smote,\n",
        "    param_distributions=param_grid,\n",
        "    n_iter=200,  # Number of parameter settings that are sampled\n",
        "    cv=5,  # Number of folds for cross-validation\n",
        "    scoring='accuracy',\n",
        "    n_jobs=-1,  # Use all available cores\n",
        "    random_state=0,\n",
        "    verbose=2\n",
        ")\n",
        "\n",
        "# Fit the random search model\n",
        "start_time = time()\n",
        "random_search.fit(X_train, y_train)\n",
        "end_time = time()\n",
        "\n",
        "# Get the best estimator\n",
        "best_rfc = random_search.best_estimator_\n",
        "\n",
        "# Predict using the best estimator\n",
        "y_pred_optimized = best_rfc.predict(X_test)\n",
        "\n",
        "# Generate the classification report\n",
        "report = classification_report(y_test, y_pred_optimized)\n",
        "\n",
        "# Print the classification report and best parameters\n",
        "print(report)\n",
        "print(f\"Best parameters: {random_search.best_params_} with score: {random_search.best_score_:.4f}\")\n",
        "print(f\"Time taken for RandomizedSearchCV: {end_time - start_time:.2f} seconds\")"
      ]
    },
    {
      "cell_type": "markdown",
      "source": [
        "Grid Search"
      ],
      "metadata": {
        "id": "py2to_87p3u4"
      },
      "id": "py2to_87p3u4"
    },
    {
      "cell_type": "code",
      "source": [
        "from sklearn.model_selection import GridSearchCV\n",
        "\n",
        "# Define the parameter grid\n",
        "param_grid = {\n",
        "    'n_estimators': [100, 200, 300, 400, 500],\n",
        "    'max_depth': [None, 10, 20, 30, 40, 50],\n",
        "    'min_samples_split': [2, 5, 10, 15, 20],\n",
        "    'min_samples_leaf': [1, 2, 4, 6, 8],\n",
        "}\n",
        "\n",
        "# Initialize GridSearchCV\n",
        "grid_search = GridSearchCV(\n",
        "    estimator=rfc_smote,\n",
        "    param_grid=param_grid,  # Use param_grid for exhaustive search\n",
        "    cv=5,  # Number of folds for cross-validation\n",
        "    scoring='accuracy',\n",
        "    n_jobs=-1,  # Use all available cores\n",
        "    verbose=2\n",
        ")\n",
        "\n",
        "# Fit the grid search model\n",
        "start_time = time()\n",
        "grid_search.fit(X_train, y_train)\n",
        "end_time = time()\n",
        "\n",
        "# Get the best estimator\n",
        "best_rfc = grid_search.best_estimator_\n",
        "\n",
        "# Predict using the best estimator\n",
        "y_pred_optimized = best_rfc.predict(X_test)\n",
        "\n",
        "# Generate the classification report\n",
        "report = classification_report(y_test, y_pred_optimized)\n",
        "\n",
        "# Print the classification report and best parameters\n",
        "print(report)\n",
        "print(f\"Best parameters: {grid_search.best_params_} with score: {grid_search.best_score_:.4f}\")\n",
        "print(f\"Time taken for GridSearchCV: {end_time - start_time:.2f} seconds\")"
      ],
      "metadata": {
        "colab": {
          "base_uri": "https://localhost:8080/"
        },
        "id": "lKPeuYw5p1u7",
        "outputId": "95406075-9842-4a5c-ec19-d672ce093e82"
      },
      "id": "lKPeuYw5p1u7",
      "execution_count": null,
      "outputs": [
        {
          "output_type": "stream",
          "name": "stdout",
          "text": [
            "Fitting 5 folds for each of 750 candidates, totalling 3750 fits\n",
            "              precision    recall  f1-score   support\n",
            "\n",
            "           0       0.78      0.69      0.73      1121\n",
            "           1       0.73      0.82      0.77      1182\n",
            "\n",
            "    accuracy                           0.75      2303\n",
            "   macro avg       0.76      0.75      0.75      2303\n",
            "weighted avg       0.76      0.75      0.75      2303\n",
            "\n",
            "Best parameters: {'max_depth': None, 'min_samples_leaf': 1, 'min_samples_split': 10, 'n_estimators': 500} with score: 0.7547\n",
            "Time taken for GridSearchCV: 826.87 seconds\n"
          ]
        }
      ]
    },
    {
      "cell_type": "code",
      "source": [
        "# Generate the confusion matrix\n",
        "conf_matrix = confusion_matrix(y_test, y_pred_optimized)\n",
        "\n",
        "# Visualize the confusion matrix\n",
        "plt.figure(figsize=(8, 6))\n",
        "sns.heatmap(conf_matrix, annot=True, fmt='d', cmap='Blues', cbar=False,\n",
        "            xticklabels=['No', 'Yes'],\n",
        "            yticklabels=['No', 'Yes'])\n",
        "plt.xlabel('Predicted Label')\n",
        "plt.ylabel('True Label')\n",
        "plt.title('Confusion Matrix')\n",
        "plt.show()"
      ],
      "metadata": {
        "colab": {
          "base_uri": "https://localhost:8080/",
          "height": 564
        },
        "id": "hSeAltNtufQn",
        "outputId": "8e87ccb4-132f-4682-d1a3-463805a6cd8a"
      },
      "id": "hSeAltNtufQn",
      "execution_count": null,
      "outputs": [
        {
          "output_type": "display_data",
          "data": {
            "text/plain": [
              "<Figure size 800x600 with 1 Axes>"
            ],
            "image/png": "[encoded data removed]"
          },
          "metadata": {}
        }
      ]
    }
  ],
  "metadata": {
    "kernelspec": {
      "display_name": "Python 3",
      "name": "python3"
    },
    "language_info": {
      "codemirror_mode": {
        "name": "ipython",
        "version": 3
      },
      "file_extension": ".py",
      "mimetype": "text/x-python",
      "name": "python",
      "nbconvert_exporter": "python",
      "pygments_lexer": "ipython3",
      "version": "3.9.19"
    },
    "colab": {
      "provenance": [],
      "machine_shape": "hm",
      "gpuType": "L4"
    },
    "accelerator": "GPU"
  },
  "nbformat": 4,
  "nbformat_minor": 5
}